{
 "cells": [
  {
   "cell_type": "code",
   "execution_count": 1,
   "id": "43b8ffe6",
   "metadata": {
    "ExecuteTime": {
     "end_time": "2021-05-25T16:59:08.313142Z",
     "start_time": "2021-05-25T16:59:05.588449Z"
    }
   },
   "outputs": [],
   "source": [
    "import tensorflow as tf\n",
    "import tensorflow_io as tfio"
   ]
  },
  {
   "cell_type": "code",
   "execution_count": 2,
   "id": "01fc8356-0fa8-4f66-9984-8d0134f8fd56",
   "metadata": {},
   "outputs": [],
   "source": [
    "from IPython.display import Audio"
   ]
  },
  {
   "cell_type": "code",
   "execution_count": 3,
   "id": "c4bcb3ee-9ff8-4545-b333-32135288a7db",
   "metadata": {},
   "outputs": [],
   "source": [
    "import numpy as np\n",
    "import pandas as pd\n",
    "import matplotlib.pyplot as plt\n",
    "from ipywidgets import interact"
   ]
  },
  {
   "cell_type": "markdown",
   "id": "8a0fd878",
   "metadata": {},
   "source": [
    "# Fonctions"
   ]
  },
  {
   "cell_type": "code",
   "execution_count": 4,
   "id": "b3ecd6b5-03e5-4f84-94a3-e90704a670e5",
   "metadata": {},
   "outputs": [],
   "source": [
    "from birds.data.spectrogram import full_spectro_generation, generate_mel_spectrogram, generate_db_scale_mel_spectrogram"
   ]
  },
  {
   "cell_type": "markdown",
   "id": "8a78cc18-74fd-441f-a474-7792c73b407b",
   "metadata": {},
   "source": [
    "# Dataset's spectrograms ?"
   ]
  },
  {
   "cell_type": "code",
   "execution_count": 5,
   "id": "c661ba28-f22f-46f4-83cb-fc3303216dc6",
   "metadata": {},
   "outputs": [],
   "source": [
    "RAW_DATA_PATH = '../raw_data/'\n",
    "TRAIN_SET_PATH = '../raw_data/data_30s/train/'"
   ]
  },
  {
   "cell_type": "code",
   "execution_count": 6,
   "id": "81805306-ac50-40e8-9c4c-c9102faf26d6",
   "metadata": {},
   "outputs": [
    {
     "data": {
      "text/html": [
       "<div>\n",
       "<style scoped>\n",
       "    .dataframe tbody tr th:only-of-type {\n",
       "        vertical-align: middle;\n",
       "    }\n",
       "\n",
       "    .dataframe tbody tr th {\n",
       "        vertical-align: top;\n",
       "    }\n",
       "\n",
       "    .dataframe thead th {\n",
       "        text-align: right;\n",
       "    }\n",
       "</style>\n",
       "<table border=\"1\" class=\"dataframe\">\n",
       "  <thead>\n",
       "    <tr style=\"text-align: right;\">\n",
       "      <th></th>\n",
       "      <th>Recording_ID</th>\n",
       "      <th>Genus</th>\n",
       "      <th>Specific_epithet</th>\n",
       "      <th>Subspecies</th>\n",
       "      <th>English_name</th>\n",
       "      <th>Recordist</th>\n",
       "      <th>Country</th>\n",
       "      <th>Locality</th>\n",
       "      <th>Latitude</th>\n",
       "      <th>Longitude</th>\n",
       "      <th>...</th>\n",
       "      <th>Other_species24</th>\n",
       "      <th>Other_species25</th>\n",
       "      <th>Other_species26</th>\n",
       "      <th>Other_species27</th>\n",
       "      <th>Other_species28</th>\n",
       "      <th>Other_species29</th>\n",
       "      <th>Other_species30</th>\n",
       "      <th>Species</th>\n",
       "      <th>Path</th>\n",
       "      <th>Target</th>\n",
       "    </tr>\n",
       "  </thead>\n",
       "  <tbody>\n",
       "    <tr>\n",
       "      <th>0</th>\n",
       "      <td>447407</td>\n",
       "      <td>Sonus</td>\n",
       "      <td>naturalis</td>\n",
       "      <td>NaN</td>\n",
       "      <td>Soundscape</td>\n",
       "      <td>José Carlos Sires</td>\n",
       "      <td>Spain</td>\n",
       "      <td>Córdoba, Córdoba, Andalucía</td>\n",
       "      <td>37.9413</td>\n",
       "      <td>-4.8958</td>\n",
       "      <td>...</td>\n",
       "      <td>NaN</td>\n",
       "      <td>NaN</td>\n",
       "      <td>NaN</td>\n",
       "      <td>NaN</td>\n",
       "      <td>NaN</td>\n",
       "      <td>NaN</td>\n",
       "      <td>NaN</td>\n",
       "      <td>Sonus naturalis</td>\n",
       "      <td>Sonus-naturalis-447407_tens.ogg</td>\n",
       "      <td>0</td>\n",
       "    </tr>\n",
       "    <tr>\n",
       "      <th>1</th>\n",
       "      <td>387437</td>\n",
       "      <td>Sonus</td>\n",
       "      <td>naturalis</td>\n",
       "      <td>NaN</td>\n",
       "      <td>Soundscape</td>\n",
       "      <td>José Carlos Sires</td>\n",
       "      <td>Spain</td>\n",
       "      <td>el planerón, belchite, zaragoza, aragón</td>\n",
       "      <td>41.2784</td>\n",
       "      <td>-0.7328</td>\n",
       "      <td>...</td>\n",
       "      <td>NaN</td>\n",
       "      <td>NaN</td>\n",
       "      <td>NaN</td>\n",
       "      <td>NaN</td>\n",
       "      <td>NaN</td>\n",
       "      <td>NaN</td>\n",
       "      <td>NaN</td>\n",
       "      <td>Sonus naturalis</td>\n",
       "      <td>Sonus-naturalis-387437_tens.ogg</td>\n",
       "      <td>0</td>\n",
       "    </tr>\n",
       "    <tr>\n",
       "      <th>2</th>\n",
       "      <td>383228</td>\n",
       "      <td>Sonus</td>\n",
       "      <td>naturalis</td>\n",
       "      <td>NaN</td>\n",
       "      <td>Soundscape</td>\n",
       "      <td>José Carlos Sires</td>\n",
       "      <td>Spain</td>\n",
       "      <td>río guadalmellato, córdoba, andalucía</td>\n",
       "      <td>38.0306</td>\n",
       "      <td>-4.6698</td>\n",
       "      <td>...</td>\n",
       "      <td>NaN</td>\n",
       "      <td>NaN</td>\n",
       "      <td>NaN</td>\n",
       "      <td>NaN</td>\n",
       "      <td>NaN</td>\n",
       "      <td>NaN</td>\n",
       "      <td>NaN</td>\n",
       "      <td>Sonus naturalis</td>\n",
       "      <td>Sonus-naturalis-383228_tens.ogg</td>\n",
       "      <td>0</td>\n",
       "    </tr>\n",
       "  </tbody>\n",
       "</table>\n",
       "<p>3 rows × 62 columns</p>\n",
       "</div>"
      ],
      "text/plain": [
       "   Recording_ID  Genus Specific_epithet Subspecies English_name  \\\n",
       "0        447407  Sonus        naturalis        NaN   Soundscape   \n",
       "1        387437  Sonus        naturalis        NaN   Soundscape   \n",
       "2        383228  Sonus        naturalis        NaN   Soundscape   \n",
       "\n",
       "           Recordist Country                                 Locality  \\\n",
       "0  José Carlos Sires   Spain              Córdoba, Córdoba, Andalucía   \n",
       "1  José Carlos Sires   Spain  el planerón, belchite, zaragoza, aragón   \n",
       "2  José Carlos Sires   Spain    río guadalmellato, córdoba, andalucía   \n",
       "\n",
       "   Latitude  Longitude  ... Other_species24 Other_species25 Other_species26  \\\n",
       "0   37.9413    -4.8958  ...             NaN             NaN             NaN   \n",
       "1   41.2784    -0.7328  ...             NaN             NaN             NaN   \n",
       "2   38.0306    -4.6698  ...             NaN             NaN             NaN   \n",
       "\n",
       "  Other_species27 Other_species28 Other_species29 Other_species30  \\\n",
       "0             NaN             NaN             NaN             NaN   \n",
       "1             NaN             NaN             NaN             NaN   \n",
       "2             NaN             NaN             NaN             NaN   \n",
       "\n",
       "           Species                             Path Target  \n",
       "0  Sonus naturalis  Sonus-naturalis-447407_tens.ogg      0  \n",
       "1  Sonus naturalis  Sonus-naturalis-387437_tens.ogg      0  \n",
       "2  Sonus naturalis  Sonus-naturalis-383228_tens.ogg      0  \n",
       "\n",
       "[3 rows x 62 columns]"
      ]
     },
     "execution_count": 6,
     "metadata": {},
     "output_type": "execute_result"
    }
   ],
   "source": [
    "metadata_train = pd.read_csv(RAW_DATA_PATH + 'metadata_train.csv')\n",
    "metadata_train.head(3)"
   ]
  },
  {
   "cell_type": "code",
   "execution_count": 7,
   "id": "66fc95a4-8a24-45de-9f54-62afec5dc9e2",
   "metadata": {
    "tags": []
   },
   "outputs": [
    {
     "data": {
      "text/html": [
       "<div>\n",
       "<style scoped>\n",
       "    .dataframe tbody tr th:only-of-type {\n",
       "        vertical-align: middle;\n",
       "    }\n",
       "\n",
       "    .dataframe tbody tr th {\n",
       "        vertical-align: top;\n",
       "    }\n",
       "\n",
       "    .dataframe thead th {\n",
       "        text-align: right;\n",
       "    }\n",
       "</style>\n",
       "<table border=\"1\" class=\"dataframe\">\n",
       "  <thead>\n",
       "    <tr style=\"text-align: right;\">\n",
       "      <th></th>\n",
       "      <th>Species</th>\n",
       "      <th>English_name</th>\n",
       "      <th>Target</th>\n",
       "    </tr>\n",
       "  </thead>\n",
       "  <tbody>\n",
       "    <tr>\n",
       "      <th>0</th>\n",
       "      <td>Sonus naturalis</td>\n",
       "      <td>Soundscape</td>\n",
       "      <td>0</td>\n",
       "    </tr>\n",
       "    <tr>\n",
       "      <th>1</th>\n",
       "      <td>Fringilla coelebs</td>\n",
       "      <td>Common Chaffinch</td>\n",
       "      <td>1</td>\n",
       "    </tr>\n",
       "    <tr>\n",
       "      <th>2</th>\n",
       "      <td>Parus major</td>\n",
       "      <td>Great Tit</td>\n",
       "      <td>2</td>\n",
       "    </tr>\n",
       "  </tbody>\n",
       "</table>\n",
       "</div>"
      ],
      "text/plain": [
       "             Species      English_name  Target\n",
       "0    Sonus naturalis        Soundscape       0\n",
       "1  Fringilla coelebs  Common Chaffinch       1\n",
       "2        Parus major         Great Tit       2"
      ]
     },
     "execution_count": 7,
     "metadata": {},
     "output_type": "execute_result"
    }
   ],
   "source": [
    "species_table = metadata_train.copy()[['Species', 'English_name', 'Target']]\n",
    "species_table = species_table.drop_duplicates()\n",
    "species_table = species_table.reset_index(drop=True)\n",
    "species_table.head(3)"
   ]
  },
  {
   "cell_type": "code",
   "execution_count": 8,
   "id": "40c3c33c-fcd8-4d0a-80c6-1cf074d9c398",
   "metadata": {},
   "outputs": [
    {
     "data": {
      "text/html": [
       "<div>\n",
       "<style scoped>\n",
       "    .dataframe tbody tr th:only-of-type {\n",
       "        vertical-align: middle;\n",
       "    }\n",
       "\n",
       "    .dataframe tbody tr th {\n",
       "        vertical-align: top;\n",
       "    }\n",
       "\n",
       "    .dataframe thead th {\n",
       "        text-align: right;\n",
       "    }\n",
       "</style>\n",
       "<table border=\"1\" class=\"dataframe\">\n",
       "  <thead>\n",
       "    <tr style=\"text-align: right;\">\n",
       "      <th></th>\n",
       "      <th>Path</th>\n",
       "      <th>Target</th>\n",
       "    </tr>\n",
       "  </thead>\n",
       "  <tbody>\n",
       "    <tr>\n",
       "      <th>0</th>\n",
       "      <td>Sonus-naturalis-447407_tens.ogg</td>\n",
       "      <td>0</td>\n",
       "    </tr>\n",
       "    <tr>\n",
       "      <th>1</th>\n",
       "      <td>Sonus-naturalis-387437_tens.ogg</td>\n",
       "      <td>0</td>\n",
       "    </tr>\n",
       "    <tr>\n",
       "      <th>2</th>\n",
       "      <td>Sonus-naturalis-383228_tens.ogg</td>\n",
       "      <td>0</td>\n",
       "    </tr>\n",
       "  </tbody>\n",
       "</table>\n",
       "</div>"
      ],
      "text/plain": [
       "                              Path  Target\n",
       "0  Sonus-naturalis-447407_tens.ogg       0\n",
       "1  Sonus-naturalis-387437_tens.ogg       0\n",
       "2  Sonus-naturalis-383228_tens.ogg       0"
      ]
     },
     "execution_count": 8,
     "metadata": {},
     "output_type": "execute_result"
    }
   ],
   "source": [
    "y_train = pd.read_csv(TRAIN_SET_PATH + 'y_train.csv')\n",
    "y_train.head(3)"
   ]
  },
  {
   "cell_type": "code",
   "execution_count": 18,
   "id": "f45cb270-4b93-4420-b274-131435cdd69c",
   "metadata": {},
   "outputs": [
    {
     "data": {
      "application/vnd.jupyter.widget-view+json": {
       "model_id": "42c959f4e9604d42b924cf50ef715768",
       "version_major": 2,
       "version_minor": 0
      },
      "text/plain": [
       "interactive(children=(Dropdown(description='target', options=(0, 1, 2, 3, 4, 5, 6, 7, 8, 9, 10, 11, 12, 13, 14…"
      ]
     },
     "metadata": {},
     "output_type": "display_data"
    }
   ],
   "source": [
    "@interact(target=range(50), record=range(32))\n",
    "def print_from_target(target, record):\n",
    "    \n",
    "    files_names = list(y_train[y_train['Target'] == target].reset_index(drop=True).loc[record:record+2, 'Path'])\n",
    "    files_paths = [TRAIN_SET_PATH + file_name for file_name in files_names]\n",
    "    \n",
    "    plt.figure(figsize=(20,5), constrained_layout=True)\n",
    "\n",
    "    for j in range(2):\n",
    "        file_name = files_names[j]\n",
    "        file_path = files_paths[j]\n",
    "        record_name = file_name.split(\"_tens.ogg\")[0]\n",
    "        \n",
    "        spectrogram = full_spectro_generation(file_path, target, split=True)[0]\n",
    "\n",
    "        plt.subplot(1, 4, 2*j+1)\n",
    "        plt.imshow((spectrogram).numpy())\n",
    "        plt.axis('off')\n",
    "        plt.title(f\"Record n°{record + j}\\n{record_name} [spectr.]\\nshape: {spectrogram.shape}\", fontsize=12, loc='left')\n",
    "\n",
    "        plt.subplot(1, 4, 2*j+2)\n",
    "        plt.imshow(tf.math.log(spectrogram).numpy())\n",
    "        plt.axis('off')\n",
    "        plt.title(f\"Record n°{record + j}\\n{record_name} [log spectr.]\\nshape: {spectrogram.shape}\", fontsize=12, loc='left')\n",
    "    \n",
    "    species_name = species_table[species_table['Target'] == target].loc[:, 'Species'].reset_index(drop=True)[0]\n",
    "    english_name = species_table[species_table['Target'] == target].loc[:, 'English_name'].reset_index(drop=True)[0]\n",
    "\n",
    "    plt.suptitle(f\"Target {target}: {species_name.upper()} ~ {english_name}\", fontsize=20);\n"
   ]
  },
  {
   "cell_type": "code",
   "execution_count": 13,
   "id": "07a0ea18-be9e-4911-a93c-8a007f0257a8",
   "metadata": {},
   "outputs": [
    {
     "data": {
      "application/vnd.jupyter.widget-view+json": {
       "model_id": "4bbcbc360e4d489c9e3fa043803de75e",
       "version_major": 2,
       "version_minor": 0
      },
      "text/plain": [
       "interactive(children=(Dropdown(description='target', options=(0, 1, 2, 3, 4, 5, 6, 7, 8, 9, 10, 11, 12, 13, 14…"
      ]
     },
     "metadata": {},
     "output_type": "display_data"
    }
   ],
   "source": [
    "@interact(target=range(50), record=range(32))\n",
    "def display_audio_from_target(target, record):\n",
    "    \n",
    "    files_names = list(y_train[y_train['Target'] == target].reset_index(drop=True).loc[:, 'Path'])\n",
    "    files_paths = [TRAIN_SET_PATH + file_name for file_name in files_names]\n",
    "    \n",
    "    return Audio(files_paths[record])"
   ]
  },
  {
   "cell_type": "code",
   "execution_count": null,
   "id": "d3693c70-8cc3-40b7-a6bd-2c956ae02c29",
   "metadata": {},
   "outputs": [],
   "source": []
  },
  {
   "cell_type": "code",
   "execution_count": null,
   "id": "410b1af8-1d04-43a6-a27f-e82ab26f39c0",
   "metadata": {
    "tags": []
   },
   "outputs": [],
   "source": [
    "n_rows = 2\n",
    "\n",
    "plt.figure(figsize=(15, 3*n_rows), constrained_layout=True)\n",
    "\n",
    "for i in range(n_rows):\n",
    "    for j in range(5):\n",
    "        plt.subplot(n_rows, 5, 5*i + j + 1)\n",
    "        plot_spectrogram(sub_path_list[5*i + j])"
   ]
  },
  {
   "cell_type": "code",
   "execution_count": null,
   "id": "76ce2532-fbd4-4a8b-953f-a7df6117022c",
   "metadata": {},
   "outputs": [],
   "source": []
  }
 ],
 "metadata": {
  "kernelspec": {
   "display_name": "Python 3",
   "language": "python",
   "name": "python3"
  },
  "language_info": {
   "codemirror_mode": {
    "name": "ipython",
    "version": 3
   },
   "file_extension": ".py",
   "mimetype": "text/x-python",
   "name": "python",
   "nbconvert_exporter": "python",
   "pygments_lexer": "ipython3",
   "version": "3.8.6"
  },
  "toc": {
   "base_numbering": 1,
   "nav_menu": {},
   "number_sections": true,
   "sideBar": true,
   "skip_h1_title": false,
   "title_cell": "Table of Contents",
   "title_sidebar": "Contents",
   "toc_cell": false,
   "toc_position": {},
   "toc_section_display": true,
   "toc_window_display": false
  }
 },
 "nbformat": 4,
 "nbformat_minor": 5
}
