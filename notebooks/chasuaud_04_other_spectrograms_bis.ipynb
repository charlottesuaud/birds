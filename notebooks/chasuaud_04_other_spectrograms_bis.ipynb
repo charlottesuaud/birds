{
 "cells": [
  {
   "cell_type": "markdown",
   "id": "2be3a07e-004b-46b8-8982-a3ce28119847",
   "metadata": {},
   "source": [
    "# Imports"
   ]
  },
  {
   "cell_type": "code",
   "execution_count": 1,
   "id": "43b8ffe6",
   "metadata": {
    "ExecuteTime": {
     "end_time": "2021-05-25T16:59:08.313142Z",
     "start_time": "2021-05-25T16:59:05.588449Z"
    }
   },
   "outputs": [],
   "source": [
    "import tensorflow as tf\n",
    "import tensorflow_io as tfio"
   ]
  },
  {
   "cell_type": "code",
   "execution_count": 2,
   "id": "01fc8356-0fa8-4f66-9984-8d0134f8fd56",
   "metadata": {},
   "outputs": [],
   "source": [
    "from IPython.display import Audio"
   ]
  },
  {
   "cell_type": "code",
   "execution_count": 3,
   "id": "c4bcb3ee-9ff8-4545-b333-32135288a7db",
   "metadata": {},
   "outputs": [],
   "source": [
    "import numpy as np\n",
    "import pandas as pd\n",
    "import matplotlib.pyplot as plt\n",
    "from ipywidgets import interact"
   ]
  },
  {
   "cell_type": "code",
   "execution_count": 4,
   "id": "b2f748ff-2df5-4f1e-99e3-d70f3e01a319",
   "metadata": {},
   "outputs": [],
   "source": [
    "%load_ext autoreload \n",
    "%autoreload 2\n",
    "%reload_ext autoreload"
   ]
  },
  {
   "cell_type": "code",
   "execution_count": 55,
   "id": "3ba73a41-1686-4955-9e92-4eaf210212a3",
   "metadata": {},
   "outputs": [],
   "source": [
    "from birds.data.spectrogram import convert_audio_file_to_audio_tensor, convert_to_tensor, resample_audio_tensor, split_tensor, harmonize_tensor_shape\n",
    "from birds.data.spectrogram import generate_spectrogram, generate_mel_spectrogram, generate_db_scale_mel_spectrogram"
   ]
  },
  {
   "cell_type": "markdown",
   "id": "8a78cc18-74fd-441f-a474-7792c73b407b",
   "metadata": {},
   "source": [
    "# Dataset"
   ]
  },
  {
   "cell_type": "code",
   "execution_count": 6,
   "id": "c661ba28-f22f-46f4-83cb-fc3303216dc6",
   "metadata": {},
   "outputs": [],
   "source": [
    "RAW_DATA_PATH = '../raw_data/'\n",
    "TRAIN_SET_PATH = '../raw_data/data_30s/train/'"
   ]
  },
  {
   "cell_type": "code",
   "execution_count": 7,
   "id": "2dd362c8-4504-4fab-968b-f988256956c9",
   "metadata": {
    "tags": []
   },
   "outputs": [],
   "source": [
    "metadata_train = pd.read_csv(RAW_DATA_PATH + 'metadata_train.csv')"
   ]
  },
  {
   "cell_type": "code",
   "execution_count": 8,
   "id": "f3c53830-1464-4bd3-8350-2878dff9f83f",
   "metadata": {},
   "outputs": [
    {
     "data": {
      "text/html": [
       "<div>\n",
       "<style scoped>\n",
       "    .dataframe tbody tr th:only-of-type {\n",
       "        vertical-align: middle;\n",
       "    }\n",
       "\n",
       "    .dataframe tbody tr th {\n",
       "        vertical-align: top;\n",
       "    }\n",
       "\n",
       "    .dataframe thead th {\n",
       "        text-align: right;\n",
       "    }\n",
       "</style>\n",
       "<table border=\"1\" class=\"dataframe\">\n",
       "  <thead>\n",
       "    <tr style=\"text-align: right;\">\n",
       "      <th></th>\n",
       "      <th>Recording_ID</th>\n",
       "      <th>Genus</th>\n",
       "      <th>Specific_epithet</th>\n",
       "      <th>Subspecies</th>\n",
       "      <th>English_name</th>\n",
       "      <th>Recordist</th>\n",
       "      <th>Country</th>\n",
       "      <th>Locality</th>\n",
       "      <th>Latitude</th>\n",
       "      <th>Longitude</th>\n",
       "      <th>...</th>\n",
       "      <th>Other_species24</th>\n",
       "      <th>Other_species25</th>\n",
       "      <th>Other_species26</th>\n",
       "      <th>Other_species27</th>\n",
       "      <th>Other_species28</th>\n",
       "      <th>Other_species29</th>\n",
       "      <th>Other_species30</th>\n",
       "      <th>Species</th>\n",
       "      <th>Path</th>\n",
       "      <th>Target</th>\n",
       "    </tr>\n",
       "  </thead>\n",
       "  <tbody>\n",
       "    <tr>\n",
       "      <th>0</th>\n",
       "      <td>447407</td>\n",
       "      <td>Sonus</td>\n",
       "      <td>naturalis</td>\n",
       "      <td>NaN</td>\n",
       "      <td>Soundscape</td>\n",
       "      <td>José Carlos Sires</td>\n",
       "      <td>Spain</td>\n",
       "      <td>Córdoba, Córdoba, Andalucía</td>\n",
       "      <td>37.9413</td>\n",
       "      <td>-4.8958</td>\n",
       "      <td>...</td>\n",
       "      <td>NaN</td>\n",
       "      <td>NaN</td>\n",
       "      <td>NaN</td>\n",
       "      <td>NaN</td>\n",
       "      <td>NaN</td>\n",
       "      <td>NaN</td>\n",
       "      <td>NaN</td>\n",
       "      <td>Sonus naturalis</td>\n",
       "      <td>Sonus-naturalis-447407_tens.ogg</td>\n",
       "      <td>0</td>\n",
       "    </tr>\n",
       "    <tr>\n",
       "      <th>1</th>\n",
       "      <td>387437</td>\n",
       "      <td>Sonus</td>\n",
       "      <td>naturalis</td>\n",
       "      <td>NaN</td>\n",
       "      <td>Soundscape</td>\n",
       "      <td>José Carlos Sires</td>\n",
       "      <td>Spain</td>\n",
       "      <td>el planerón, belchite, zaragoza, aragón</td>\n",
       "      <td>41.2784</td>\n",
       "      <td>-0.7328</td>\n",
       "      <td>...</td>\n",
       "      <td>NaN</td>\n",
       "      <td>NaN</td>\n",
       "      <td>NaN</td>\n",
       "      <td>NaN</td>\n",
       "      <td>NaN</td>\n",
       "      <td>NaN</td>\n",
       "      <td>NaN</td>\n",
       "      <td>Sonus naturalis</td>\n",
       "      <td>Sonus-naturalis-387437_tens.ogg</td>\n",
       "      <td>0</td>\n",
       "    </tr>\n",
       "    <tr>\n",
       "      <th>2</th>\n",
       "      <td>383228</td>\n",
       "      <td>Sonus</td>\n",
       "      <td>naturalis</td>\n",
       "      <td>NaN</td>\n",
       "      <td>Soundscape</td>\n",
       "      <td>José Carlos Sires</td>\n",
       "      <td>Spain</td>\n",
       "      <td>río guadalmellato, córdoba, andalucía</td>\n",
       "      <td>38.0306</td>\n",
       "      <td>-4.6698</td>\n",
       "      <td>...</td>\n",
       "      <td>NaN</td>\n",
       "      <td>NaN</td>\n",
       "      <td>NaN</td>\n",
       "      <td>NaN</td>\n",
       "      <td>NaN</td>\n",
       "      <td>NaN</td>\n",
       "      <td>NaN</td>\n",
       "      <td>Sonus naturalis</td>\n",
       "      <td>Sonus-naturalis-383228_tens.ogg</td>\n",
       "      <td>0</td>\n",
       "    </tr>\n",
       "  </tbody>\n",
       "</table>\n",
       "<p>3 rows × 62 columns</p>\n",
       "</div>"
      ],
      "text/plain": [
       "   Recording_ID  Genus Specific_epithet Subspecies English_name  \\\n",
       "0        447407  Sonus        naturalis        NaN   Soundscape   \n",
       "1        387437  Sonus        naturalis        NaN   Soundscape   \n",
       "2        383228  Sonus        naturalis        NaN   Soundscape   \n",
       "\n",
       "           Recordist Country                                 Locality  \\\n",
       "0  José Carlos Sires   Spain              Córdoba, Córdoba, Andalucía   \n",
       "1  José Carlos Sires   Spain  el planerón, belchite, zaragoza, aragón   \n",
       "2  José Carlos Sires   Spain    río guadalmellato, córdoba, andalucía   \n",
       "\n",
       "   Latitude  Longitude  ... Other_species24 Other_species25 Other_species26  \\\n",
       "0   37.9413    -4.8958  ...             NaN             NaN             NaN   \n",
       "1   41.2784    -0.7328  ...             NaN             NaN             NaN   \n",
       "2   38.0306    -4.6698  ...             NaN             NaN             NaN   \n",
       "\n",
       "  Other_species27 Other_species28 Other_species29 Other_species30  \\\n",
       "0             NaN             NaN             NaN             NaN   \n",
       "1             NaN             NaN             NaN             NaN   \n",
       "2             NaN             NaN             NaN             NaN   \n",
       "\n",
       "           Species                             Path Target  \n",
       "0  Sonus naturalis  Sonus-naturalis-447407_tens.ogg      0  \n",
       "1  Sonus naturalis  Sonus-naturalis-387437_tens.ogg      0  \n",
       "2  Sonus naturalis  Sonus-naturalis-383228_tens.ogg      0  \n",
       "\n",
       "[3 rows x 62 columns]"
      ]
     },
     "execution_count": 8,
     "metadata": {},
     "output_type": "execute_result"
    }
   ],
   "source": [
    "metadata_train.head(3)"
   ]
  },
  {
   "cell_type": "code",
   "execution_count": 9,
   "id": "ebefc6a1-6238-42ae-b499-ce1c5158623c",
   "metadata": {
    "tags": []
   },
   "outputs": [],
   "source": [
    "species_table = metadata_train.copy()[['Species', 'English_name', 'Target']]\n",
    "species_table = species_table.drop_duplicates()\n",
    "species_table = species_table.reset_index(drop=True)"
   ]
  },
  {
   "cell_type": "code",
   "execution_count": 10,
   "id": "4128c20c-e418-4e97-8dc1-6c5f4467ffcf",
   "metadata": {
    "tags": []
   },
   "outputs": [
    {
     "data": {
      "text/html": [
       "<div>\n",
       "<style scoped>\n",
       "    .dataframe tbody tr th:only-of-type {\n",
       "        vertical-align: middle;\n",
       "    }\n",
       "\n",
       "    .dataframe tbody tr th {\n",
       "        vertical-align: top;\n",
       "    }\n",
       "\n",
       "    .dataframe thead th {\n",
       "        text-align: right;\n",
       "    }\n",
       "</style>\n",
       "<table border=\"1\" class=\"dataframe\">\n",
       "  <thead>\n",
       "    <tr style=\"text-align: right;\">\n",
       "      <th></th>\n",
       "      <th>Species</th>\n",
       "      <th>English_name</th>\n",
       "      <th>Target</th>\n",
       "    </tr>\n",
       "  </thead>\n",
       "  <tbody>\n",
       "    <tr>\n",
       "      <th>0</th>\n",
       "      <td>Sonus naturalis</td>\n",
       "      <td>Soundscape</td>\n",
       "      <td>0</td>\n",
       "    </tr>\n",
       "    <tr>\n",
       "      <th>1</th>\n",
       "      <td>Fringilla coelebs</td>\n",
       "      <td>Common Chaffinch</td>\n",
       "      <td>1</td>\n",
       "    </tr>\n",
       "    <tr>\n",
       "      <th>2</th>\n",
       "      <td>Parus major</td>\n",
       "      <td>Great Tit</td>\n",
       "      <td>2</td>\n",
       "    </tr>\n",
       "  </tbody>\n",
       "</table>\n",
       "</div>"
      ],
      "text/plain": [
       "             Species      English_name  Target\n",
       "0    Sonus naturalis        Soundscape       0\n",
       "1  Fringilla coelebs  Common Chaffinch       1\n",
       "2        Parus major         Great Tit       2"
      ]
     },
     "execution_count": 10,
     "metadata": {},
     "output_type": "execute_result"
    }
   ],
   "source": [
    "species_table.head(3)"
   ]
  },
  {
   "cell_type": "code",
   "execution_count": 11,
   "id": "e34fd45a-a31d-492e-ae96-746d62fcdaee",
   "metadata": {
    "tags": []
   },
   "outputs": [],
   "source": [
    "y_train = pd.read_csv(TRAIN_SET_PATH + 'y_train.csv')"
   ]
  },
  {
   "cell_type": "code",
   "execution_count": 12,
   "id": "38a395eb-aa57-458d-98be-31e3f5d025d0",
   "metadata": {},
   "outputs": [
    {
     "data": {
      "text/html": [
       "<div>\n",
       "<style scoped>\n",
       "    .dataframe tbody tr th:only-of-type {\n",
       "        vertical-align: middle;\n",
       "    }\n",
       "\n",
       "    .dataframe tbody tr th {\n",
       "        vertical-align: top;\n",
       "    }\n",
       "\n",
       "    .dataframe thead th {\n",
       "        text-align: right;\n",
       "    }\n",
       "</style>\n",
       "<table border=\"1\" class=\"dataframe\">\n",
       "  <thead>\n",
       "    <tr style=\"text-align: right;\">\n",
       "      <th></th>\n",
       "      <th>Path</th>\n",
       "      <th>Target</th>\n",
       "    </tr>\n",
       "  </thead>\n",
       "  <tbody>\n",
       "    <tr>\n",
       "      <th>0</th>\n",
       "      <td>Sonus-naturalis-447407_tens.ogg</td>\n",
       "      <td>0</td>\n",
       "    </tr>\n",
       "    <tr>\n",
       "      <th>1</th>\n",
       "      <td>Sonus-naturalis-387437_tens.ogg</td>\n",
       "      <td>0</td>\n",
       "    </tr>\n",
       "    <tr>\n",
       "      <th>2</th>\n",
       "      <td>Sonus-naturalis-383228_tens.ogg</td>\n",
       "      <td>0</td>\n",
       "    </tr>\n",
       "  </tbody>\n",
       "</table>\n",
       "</div>"
      ],
      "text/plain": [
       "                              Path  Target\n",
       "0  Sonus-naturalis-447407_tens.ogg       0\n",
       "1  Sonus-naturalis-387437_tens.ogg       0\n",
       "2  Sonus-naturalis-383228_tens.ogg       0"
      ]
     },
     "execution_count": 12,
     "metadata": {},
     "output_type": "execute_result"
    }
   ],
   "source": [
    "y_train.head(3)"
   ]
  },
  {
   "cell_type": "markdown",
   "id": "ca3d7043-70ee-42fe-976f-181f419919dc",
   "metadata": {},
   "source": [
    "# Testing functions"
   ]
  },
  {
   "cell_type": "code",
   "execution_count": 13,
   "id": "8762cfc6-d85e-4924-bbd4-30b3fae26dc1",
   "metadata": {},
   "outputs": [
    {
     "name": "stdout",
     "output_type": "stream",
     "text": [
      "../raw_data/data_30s/train/Turdus-merula-537177_tens.ogg\n",
      "3\n"
     ]
    }
   ],
   "source": [
    "path_example = TRAIN_SET_PATH + y_train.loc[100, 'Path']\n",
    "label_example = y_train.loc[100, 'Target']\n",
    "print(path_example)\n",
    "print(label_example)"
   ]
  },
  {
   "cell_type": "code",
   "execution_count": 14,
   "id": "bd61b177-276e-4d18-b533-a5a8dcc0c10b",
   "metadata": {},
   "outputs": [
    {
     "name": "stdout",
     "output_type": "stream",
     "text": [
      "tftensor.shape: 1323000\n",
      "rate: 44100\n",
      "rate * 30 sec: 1323000\n"
     ]
    }
   ],
   "source": [
    "audiotensor = convert_audio_file_to_audio_tensor(path_example)\n",
    "\n",
    "tftensor, rate = convert_to_tensor(audiotensor)\n",
    "\n",
    "print(f\"\"\"tftensor.shape: {tftensor.shape[0]}\n",
    "rate: {rate}\n",
    "rate * 30 sec: {rate * 30}\"\"\")"
   ]
  },
  {
   "cell_type": "code",
   "execution_count": 15,
   "id": "242141b7-80e8-4c46-9668-98899cd5887d",
   "metadata": {},
   "outputs": [
    {
     "name": "stdout",
     "output_type": "stream",
     "text": [
      "tftensor_16k.shape: 480000\n",
      "/16k: 30 sec.\n"
     ]
    }
   ],
   "source": [
    "tftensor_16k = resample_audio_tensor(tftensor, rate)\n",
    "\n",
    "print(f\"\"\"tftensor_16k.shape: {tftensor_16k.shape[0]}\n",
    "/16k: {int(tftensor_16k.shape[0] / 16_000)} sec.\"\"\")"
   ]
  },
  {
   "cell_type": "code",
   "execution_count": 16,
   "id": "f7da85b8-152c-488a-be66-167e93834a1d",
   "metadata": {},
   "outputs": [
    {
     "name": "stdout",
     "output_type": "stream",
     "text": [
      "tftensor_16k_10s.shape: 160000\n",
      "/16k: 10 sec.\n"
     ]
    }
   ],
   "source": [
    "tftensor_16k_10s = split_tensor(tftensor_16k)\n",
    "\n",
    "print(f\"\"\"tftensor_16k_10s.shape: {tftensor_16k_10s.shape[0]}\n",
    "/16k: {int(tftensor_16k_10s.shape[0] / 16_000)} sec.\"\"\")"
   ]
  },
  {
   "cell_type": "code",
   "execution_count": 17,
   "id": "a51da762-9e0b-4180-a694-73481e09fdcf",
   "metadata": {},
   "outputs": [
    {
     "data": {
      "text/plain": [
       "<tf.Tensor: shape=(160000, 2), dtype=float32, numpy=\n",
       "array([[-2.2390836e-11,  3.1039865e-10],\n",
       "       [ 9.8437855e-11, -7.9635520e-10],\n",
       "       [-1.8880344e-09,  7.8098378e-12],\n",
       "       ...,\n",
       "       [-1.4356500e-02, -1.6975790e-02],\n",
       "       [ 1.1641389e-02,  8.5713174e-03],\n",
       "       [ 2.5572339e-02,  2.7551372e-02]], dtype=float32)>"
      ]
     },
     "execution_count": 17,
     "metadata": {},
     "output_type": "execute_result"
    }
   ],
   "source": [
    "tftensor_16k_10s"
   ]
  },
  {
   "cell_type": "code",
   "execution_count": 18,
   "id": "e7467917-db35-4367-b427-42131d79e41c",
   "metadata": {},
   "outputs": [],
   "source": [
    "tftensor_16k_10s_mono = harmonize_tensor_shape(tftensor_16k_10s)"
   ]
  },
  {
   "cell_type": "code",
   "execution_count": 19,
   "id": "bf7948c1-1929-4de1-9d44-1bcd687b0592",
   "metadata": {},
   "outputs": [],
   "source": [
    "spectrogram, harmonizedtensor, label, input_rate, output_rate = generate_spectrogram(path_example, label_example)"
   ]
  },
  {
   "cell_type": "code",
   "execution_count": 20,
   "id": "6755204c-bacf-4f97-a6da-52e1e39df8cc",
   "metadata": {},
   "outputs": [],
   "source": [
    "mel_spectrogram, harmonizedtensor, label, input_rate, output_rate = generate_mel_spectrogram(path_example, label_example)"
   ]
  },
  {
   "cell_type": "code",
   "execution_count": 21,
   "id": "b67813de-c43a-4135-9d7d-73518ccafe3f",
   "metadata": {},
   "outputs": [],
   "source": [
    "db_scale_mel_spectrogram, harmonizedtensor, label, input_rate, output_rate = generate_db_scale_mel_spectrogram(path_example, label_example)"
   ]
  },
  {
   "cell_type": "markdown",
   "id": "3af553a5-6393-48f0-9066-4fdb7dec0833",
   "metadata": {},
   "source": [
    "# Tf spectrograms"
   ]
  },
  {
   "cell_type": "code",
   "execution_count": 57,
   "id": "9bd98fb6-cd83-4909-a717-31bd2c5b8ae9",
   "metadata": {
    "jupyter": {
     "source_hidden": true
    },
    "tags": []
   },
   "outputs": [],
   "source": [
    "split_dict = {\n",
    "    True: '10s',\n",
    "    False: '30s'\n",
    "}\n",
    "plot_dict = {\n",
    "    'mel spectrogram': 'log',\n",
    "    'spectrogram': 'log',\n",
    "    'db spectrogram': 'common'\n",
    "}"
   ]
  },
  {
   "cell_type": "code",
   "execution_count": 61,
   "id": "a70a546a-52c7-4f46-8f37-35632264dfdf",
   "metadata": {
    "jupyter": {
     "source_hidden": true
    },
    "tags": []
   },
   "outputs": [
    {
     "data": {
      "application/vnd.jupyter.widget-view+json": {
       "model_id": "07fc919acc9f422ea05f54207d64e73b",
       "version_major": 2,
       "version_minor": 0
      },
      "text/plain": [
       "interactive(children=(Dropdown(description='target', options=(1, 2, 3, 4, 5, 6, 7, 8, 9, 10, 11, 12, 13, 14, 1…"
      ]
     },
     "metadata": {},
     "output_type": "display_data"
    }
   ],
   "source": [
    "@interact(\n",
    "    target=range(1,50), output_rate=[16_000, 44_100, 48_000], split=[True, False], \n",
    "    spec_type=['mel spectrogram', 'spectrogram', 'db spectrogram'])\n",
    "def print_from_target(target, output_rate, split, spec_type):\n",
    "    \n",
    "    # Suptitle from target, spectrogram type, plot type\n",
    "    species_name = species_table[species_table['Target'] == target].loc[:, 'Species'].reset_index(drop=True)[0]\n",
    "    english_name = species_table[species_table['Target'] == target].loc[:, 'English_name'].reset_index(drop=True)[0]\n",
    "    suptitle = f\"Target {target}: {species_name} ~ {english_name}\\noutput rate: {output_rate} - split: {split_dict[split]}\\n\\n{spec_type.upper()}\\n\"\n",
    "    \n",
    "    # Get 3 first audio files from chosen target\n",
    "    files_names = list(y_train[y_train['Target'] == target].reset_index(drop=True).loc[0:3, 'Path'])\n",
    "    files_paths = [TRAIN_SET_PATH + file_name for file_name in files_names]\n",
    "    \n",
    "    plt.figure(figsize=(20,5), constrained_layout=True)\n",
    "\n",
    "    for j in range(3):\n",
    "        file_name = files_names[j]\n",
    "        file_path = files_paths[j]\n",
    "        record_name = file_name.split(\"_tens.ogg\")[0]\n",
    "        \n",
    "        # choose spectrogram type\n",
    "        if spec_type == 'spectrogram':\n",
    "            spectrogram, harmonizedtensor, label, input_rate, output_rate = generate_spectrogram(\n",
    "                file_path, label=target, output_rate=output_rate, split=split\n",
    "            )\n",
    "        elif spec_type == 'mel spectrogram':\n",
    "            spectrogram, harmonizedtensor, label, input_rate, output_rate = generate_mel_spectrogram(\n",
    "                file_path, label=target, output_rate=output_rate, split=split\n",
    "            )\n",
    "        elif spec_type == 'db spectrogram':\n",
    "            spectrogram, harmonizedtensor, label, input_rate, output_rate = generate_db_scale_mel_spectrogram(\n",
    "                file_path, label=target, output_rate=output_rate, split=split\n",
    "            )\n",
    "        \n",
    "        plt.subplot(1, 3, j+1)\n",
    "        \n",
    "        # get plot type\n",
    "        plot_type = plot_dict[spec_type] # 'log' for spec and mel-spec, 'common' for db-spec\n",
    "        if plot_type == 'common':\n",
    "            plt.imshow(spectrogram.numpy())\n",
    "        elif plot_type == 'log':\n",
    "            plt.imshow(tf.math.log(spectrogram).numpy())\n",
    "\n",
    "        plt.xticks(fontsize=10)\n",
    "        plt.yticks(fontsize=10)\n",
    "        \n",
    "        title = f\"Record n°{j}: {record_name}\\nInput rate: {input_rate}\\nTensor shape: {harmonizedtensor.shape}\\nSpectrogram shape: {spectrogram.shape} ~ {spectrogram.shape[0] * spectrogram.shape[1]}\\n\"\n",
    "        plt.title(title, fontsize=12, loc='left')\n",
    "\n",
    "\n",
    "    plt.suptitle(suptitle, fontsize=16);\n"
   ]
  },
  {
   "cell_type": "code",
   "execution_count": 25,
   "id": "07a0ea18-be9e-4911-a93c-8a007f0257a8",
   "metadata": {
    "jupyter": {
     "source_hidden": true
    },
    "tags": []
   },
   "outputs": [
    {
     "data": {
      "application/vnd.jupyter.widget-view+json": {
       "model_id": "c4cebce99743461e897e6cf5eb472ae3",
       "version_major": 2,
       "version_minor": 0
      },
      "text/plain": [
       "interactive(children=(Dropdown(description='target', options=(1, 2, 3, 4, 5, 6, 7, 8, 9, 10, 11, 12, 13, 14, 1…"
      ]
     },
     "metadata": {},
     "output_type": "display_data"
    }
   ],
   "source": [
    "@interact(target=range(1,50), record=range(3))\n",
    "def display_audio_from_target(target, record):\n",
    "    \n",
    "    files_names = list(y_train[y_train['Target'] == target].reset_index(drop=True).loc[:, 'Path'])\n",
    "    files_paths = [TRAIN_SET_PATH + file_name for file_name in files_names]\n",
    "    \n",
    "    return Audio(files_paths[record])"
   ]
  },
  {
   "cell_type": "markdown",
   "id": "2140978b-08fd-4e44-9af1-1091bfbf126d",
   "metadata": {},
   "source": [
    "## First pipeline"
   ]
  },
  {
   "cell_type": "code",
   "execution_count": 63,
   "id": "e2a47d08-dd19-4527-8f2d-c384a017a672",
   "metadata": {},
   "outputs": [],
   "source": [
    "from tensorflow.keras import layers"
   ]
  },
  {
   "cell_type": "code",
   "execution_count": 64,
   "id": "9d3737c1-9460-45c9-8e1f-66b2988a3dcd",
   "metadata": {},
   "outputs": [],
   "source": [
    "directory = '../raw_data/data_30s/train/'"
   ]
  },
  {
   "cell_type": "code",
   "execution_count": 75,
   "id": "4f8b1d82-4eff-4273-bb6a-69f44198af58",
   "metadata": {},
   "outputs": [
    {
     "data": {
      "text/html": [
       "<div>\n",
       "<style scoped>\n",
       "    .dataframe tbody tr th:only-of-type {\n",
       "        vertical-align: middle;\n",
       "    }\n",
       "\n",
       "    .dataframe tbody tr th {\n",
       "        vertical-align: top;\n",
       "    }\n",
       "\n",
       "    .dataframe thead th {\n",
       "        text-align: right;\n",
       "    }\n",
       "</style>\n",
       "<table border=\"1\" class=\"dataframe\">\n",
       "  <thead>\n",
       "    <tr style=\"text-align: right;\">\n",
       "      <th></th>\n",
       "      <th>Path</th>\n",
       "      <th>Target</th>\n",
       "    </tr>\n",
       "  </thead>\n",
       "  <tbody>\n",
       "    <tr>\n",
       "      <th>0</th>\n",
       "      <td>Sonus-naturalis-447407_tens.ogg</td>\n",
       "      <td>0</td>\n",
       "    </tr>\n",
       "    <tr>\n",
       "      <th>1</th>\n",
       "      <td>Sonus-naturalis-387437_tens.ogg</td>\n",
       "      <td>0</td>\n",
       "    </tr>\n",
       "    <tr>\n",
       "      <th>2</th>\n",
       "      <td>Sonus-naturalis-383228_tens.ogg</td>\n",
       "      <td>0</td>\n",
       "    </tr>\n",
       "  </tbody>\n",
       "</table>\n",
       "</div>"
      ],
      "text/plain": [
       "                              Path  Target\n",
       "0  Sonus-naturalis-447407_tens.ogg       0\n",
       "1  Sonus-naturalis-387437_tens.ogg       0\n",
       "2  Sonus-naturalis-383228_tens.ogg       0"
      ]
     },
     "execution_count": 75,
     "metadata": {},
     "output_type": "execute_result"
    }
   ],
   "source": [
    "df = pd.read_csv(directory + 'y_train.csv')\n",
    "df.head(3)"
   ]
  },
  {
   "cell_type": "code",
   "execution_count": 73,
   "id": "51a1e705-efab-432f-b968-5549f53596b1",
   "metadata": {},
   "outputs": [],
   "source": [
    "file_paths = df['Path'].values\n",
    "labels = df['Target'].values\n",
    "\n",
    "ds_train = tf.data.Dataset.from_tensor_slices((file_paths, labels))"
   ]
  },
  {
   "cell_type": "code",
   "execution_count": 76,
   "id": "5cbdf115-f2c2-431b-8b1a-2b10d29a3296",
   "metadata": {},
   "outputs": [],
   "source": [
    "def read_spectrogram(file_path, label):\n",
    "    mel_spectrogram, harmonizedtensor, label, input_rate, output_rate = generate_mel_spectrogram(file_path, label)\n",
    "    return mel_spectrogram, label"
   ]
  },
  {
   "cell_type": "code",
   "execution_count": null,
   "id": "e7a949c6-31e8-41cd-a852-2fcc1b032794",
   "metadata": {},
   "outputs": [],
   "source": []
  },
  {
   "cell_type": "code",
   "execution_count": null,
   "id": "c2eb6dcc-11d5-4efc-8ffb-e1eccc813992",
   "metadata": {},
   "outputs": [],
   "source": []
  },
  {
   "cell_type": "code",
   "execution_count": null,
   "id": "5532e774-d244-477f-9c10-494667b2e453",
   "metadata": {},
   "outputs": [],
   "source": []
  },
  {
   "cell_type": "code",
   "execution_count": null,
   "id": "697eb18b-acff-43d5-8c62-76b195562b0c",
   "metadata": {},
   "outputs": [],
   "source": []
  },
  {
   "cell_type": "markdown",
   "id": "080d28b5-59b6-47cd-a753-068fcc3144de",
   "metadata": {},
   "source": [
    "## Librosa"
   ]
  },
  {
   "cell_type": "code",
   "execution_count": 62,
   "id": "588b1837-72ca-4709-be0a-8607e7b9d684",
   "metadata": {},
   "outputs": [],
   "source": [
    "import librosa\n",
    "import librosa.display"
   ]
  },
  {
   "cell_type": "code",
   "execution_count": null,
   "id": "6796a0f1-05e4-46ed-9ba0-cb42c35b77e7",
   "metadata": {},
   "outputs": [],
   "source": []
  },
  {
   "cell_type": "code",
   "execution_count": null,
   "id": "2d70ae0f-6ce2-410c-9da7-b5b5b62a9744",
   "metadata": {},
   "outputs": [],
   "source": []
  },
  {
   "cell_type": "code",
   "execution_count": null,
   "id": "fde1bc31-6ccd-4c0f-9146-4e7a56f5f466",
   "metadata": {},
   "outputs": [],
   "source": []
  },
  {
   "cell_type": "code",
   "execution_count": null,
   "id": "59bd5455-89c0-4b9d-8e5d-ee099b6249fb",
   "metadata": {},
   "outputs": [],
   "source": []
  },
  {
   "cell_type": "code",
   "execution_count": null,
   "id": "fa49a5d6-55c3-4b22-977a-f64b45965665",
   "metadata": {},
   "outputs": [],
   "source": []
  }
 ],
 "metadata": {
  "kernelspec": {
   "display_name": "Python 3",
   "language": "python",
   "name": "python3"
  },
  "language_info": {
   "codemirror_mode": {
    "name": "ipython",
    "version": 3
   },
   "file_extension": ".py",
   "mimetype": "text/x-python",
   "name": "python",
   "nbconvert_exporter": "python",
   "pygments_lexer": "ipython3",
   "version": "3.8.6"
  },
  "toc": {
   "base_numbering": 1,
   "nav_menu": {},
   "number_sections": true,
   "sideBar": true,
   "skip_h1_title": false,
   "title_cell": "Table of Contents",
   "title_sidebar": "Contents",
   "toc_cell": false,
   "toc_position": {},
   "toc_section_display": true,
   "toc_window_display": false
  }
 },
 "nbformat": 4,
 "nbformat_minor": 5
}
