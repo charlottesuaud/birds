{
 "cells": [
  {
   "cell_type": "markdown",
   "id": "2be3a07e-004b-46b8-8982-a3ce28119847",
   "metadata": {},
   "source": [
    "# Imports"
   ]
  },
  {
   "cell_type": "code",
   "execution_count": 6,
   "id": "761586f7",
   "metadata": {
    "ExecuteTime": {
     "end_time": "2021-05-28T09:37:38.152244Z",
     "start_time": "2021-05-28T09:37:38.125810Z"
    }
   },
   "outputs": [],
   "source": [
    "import os\n",
    "from pathlib import Path"
   ]
  },
  {
   "cell_type": "code",
   "execution_count": 1,
   "id": "002874a1-2822-4edc-af34-cc582c08d1ff",
   "metadata": {
    "ExecuteTime": {
     "end_time": "2021-05-28T09:37:05.510908Z",
     "start_time": "2021-05-28T09:37:04.213659Z"
    }
   },
   "outputs": [],
   "source": [
    "import tensorflow as tf\n",
    "import tensorflow_io as tfio"
   ]
  },
  {
   "cell_type": "code",
   "execution_count": 2,
   "id": "01fc8356-0fa8-4f66-9984-8d0134f8fd56",
   "metadata": {
    "ExecuteTime": {
     "end_time": "2021-05-28T09:37:06.229171Z",
     "start_time": "2021-05-28T09:37:06.221795Z"
    }
   },
   "outputs": [],
   "source": [
    "from IPython.display import Audio"
   ]
  },
  {
   "cell_type": "code",
   "execution_count": 3,
   "id": "c4bcb3ee-9ff8-4545-b333-32135288a7db",
   "metadata": {
    "ExecuteTime": {
     "end_time": "2021-05-28T09:37:09.250627Z",
     "start_time": "2021-05-28T09:37:08.862136Z"
    }
   },
   "outputs": [],
   "source": [
    "import numpy as np\n",
    "import pandas as pd\n",
    "import matplotlib.pyplot as plt\n",
    "from ipywidgets import interact"
   ]
  },
  {
   "cell_type": "code",
   "execution_count": 4,
   "id": "b2f748ff-2df5-4f1e-99e3-d70f3e01a319",
   "metadata": {
    "ExecuteTime": {
     "end_time": "2021-05-28T09:37:10.805878Z",
     "start_time": "2021-05-28T09:37:10.750948Z"
    }
   },
   "outputs": [],
   "source": [
    "%load_ext autoreload \n",
    "%autoreload 2\n",
    "%reload_ext autoreload"
   ]
  },
  {
   "cell_type": "code",
   "execution_count": 5,
   "id": "3ba73a41-1686-4955-9e92-4eaf210212a3",
   "metadata": {
    "ExecuteTime": {
     "end_time": "2021-05-28T09:37:18.671255Z",
     "start_time": "2021-05-28T09:37:18.638968Z"
    }
   },
   "outputs": [],
   "source": [
    "from birds.data.spectrogram import generate_tensor, generate_spectrogram\n",
    "from birds.data.spectrogram import generate_mel_spectrogram, generate_db_scale_mel_spectrogram"
   ]
  },
  {
   "cell_type": "markdown",
   "id": "2140978b-08fd-4e44-9af1-1091bfbf126d",
   "metadata": {},
   "source": [
    "# Tensorflow Dataset"
   ]
  },
  {
   "cell_type": "markdown",
   "id": "11350b03-0ed4-4c05-81e6-2b1962d1d6c0",
   "metadata": {},
   "source": [
    "## Import functions from `spectrogram.py`"
   ]
  },
  {
   "cell_type": "code",
   "execution_count": 20,
   "id": "6184b6d2",
   "metadata": {
    "ExecuteTime": {
     "end_time": "2021-05-28T09:47:27.679248Z",
     "start_time": "2021-05-28T09:47:27.640751Z"
    }
   },
   "outputs": [
    {
     "data": {
      "text/html": [
       "<div>\n",
       "<style scoped>\n",
       "    .dataframe tbody tr th:only-of-type {\n",
       "        vertical-align: middle;\n",
       "    }\n",
       "\n",
       "    .dataframe tbody tr th {\n",
       "        vertical-align: top;\n",
       "    }\n",
       "\n",
       "    .dataframe thead th {\n",
       "        text-align: right;\n",
       "    }\n",
       "</style>\n",
       "<table border=\"1\" class=\"dataframe\">\n",
       "  <thead>\n",
       "    <tr style=\"text-align: right;\">\n",
       "      <th></th>\n",
       "      <th>Path</th>\n",
       "      <th>Target</th>\n",
       "    </tr>\n",
       "  </thead>\n",
       "  <tbody>\n",
       "    <tr>\n",
       "      <th>0</th>\n",
       "      <td>Sonus-naturalis-447407_tens.ogg</td>\n",
       "      <td>0</td>\n",
       "    </tr>\n",
       "    <tr>\n",
       "      <th>1</th>\n",
       "      <td>Sonus-naturalis-387437_tens.ogg</td>\n",
       "      <td>0</td>\n",
       "    </tr>\n",
       "    <tr>\n",
       "      <th>2</th>\n",
       "      <td>Sonus-naturalis-383228_tens.ogg</td>\n",
       "      <td>0</td>\n",
       "    </tr>\n",
       "    <tr>\n",
       "      <th>3</th>\n",
       "      <td>Sonus-naturalis-358240_tens.ogg</td>\n",
       "      <td>0</td>\n",
       "    </tr>\n",
       "    <tr>\n",
       "      <th>4</th>\n",
       "      <td>Sonus-naturalis-397031_tens.ogg</td>\n",
       "      <td>0</td>\n",
       "    </tr>\n",
       "  </tbody>\n",
       "</table>\n",
       "</div>"
      ],
      "text/plain": [
       "                              Path  Target\n",
       "0  Sonus-naturalis-447407_tens.ogg       0\n",
       "1  Sonus-naturalis-387437_tens.ogg       0\n",
       "2  Sonus-naturalis-383228_tens.ogg       0\n",
       "3  Sonus-naturalis-358240_tens.ogg       0\n",
       "4  Sonus-naturalis-397031_tens.ogg       0"
      ]
     },
     "execution_count": 20,
     "metadata": {},
     "output_type": "execute_result"
    }
   ],
   "source": [
    "directory = '../raw_data/data_30s/train/'\n",
    "df = pd.read_csv(directory + 'y_train.csv')\n",
    "df.head()"
   ]
  },
  {
   "cell_type": "code",
   "execution_count": 25,
   "id": "c01e4d98-8d69-41cc-81ac-6b6d6fd35425",
   "metadata": {
    "ExecuteTime": {
     "end_time": "2021-05-28T09:48:50.881961Z",
     "start_time": "2021-05-28T09:48:50.475328Z"
    }
   },
   "outputs": [
    {
     "name": "stdout",
     "output_type": "stream",
     "text": [
      "../raw_data/data_30s/train/Fringilla-coelebs-278566_tens.ogg 1\n"
     ]
    },
    {
     "data": {
      "text/plain": [
       "(<tf.Tensor: shape=(128, 625, 1), dtype=float32, numpy=\n",
       " array([[[0.00000000e+00],\n",
       "         [0.00000000e+00],\n",
       "         [2.45006726e-04],\n",
       "         ...,\n",
       "         [1.38877332e-01],\n",
       "         [1.19903348e-02],\n",
       "         [3.34953852e-02]],\n",
       " \n",
       "        [[0.00000000e+00],\n",
       "         [0.00000000e+00],\n",
       "         [2.39668982e-04],\n",
       "         ...,\n",
       "         [1.27749830e-01],\n",
       "         [8.14723130e-03],\n",
       "         [3.77614051e-02]],\n",
       " \n",
       "        [[0.00000000e+00],\n",
       "         [0.00000000e+00],\n",
       "         [2.25729775e-04],\n",
       "         ...,\n",
       "         [1.07779965e-01],\n",
       "         [3.32684093e-03],\n",
       "         [4.29967456e-02]],\n",
       " \n",
       "        ...,\n",
       " \n",
       "        [[0.00000000e+00],\n",
       "         [0.00000000e+00],\n",
       "         [6.36583063e-05],\n",
       "         ...,\n",
       "         [4.19081002e-03],\n",
       "         [1.50359683e-02],\n",
       "         [9.78403445e-03]],\n",
       " \n",
       "        [[0.00000000e+00],\n",
       "         [0.00000000e+00],\n",
       "         [2.98568848e-05],\n",
       "         ...,\n",
       "         [2.57467804e-03],\n",
       "         [6.53252425e-03],\n",
       "         [6.15732791e-03]],\n",
       " \n",
       "        [[0.00000000e+00],\n",
       "         [0.00000000e+00],\n",
       "         [7.26637109e-06],\n",
       "         ...,\n",
       "         [1.51437579e-03],\n",
       "         [1.23484596e-03],\n",
       "         [5.98034705e-04]]], dtype=float32)>,\n",
       " 1)"
      ]
     },
     "execution_count": 25,
     "metadata": {},
     "output_type": "execute_result"
    }
   ],
   "source": [
    "file_paths = directory + df['Path'].values\n",
    "labels = df['Target'].values\n",
    "print(file_paths[50],labels[50])\n",
    "generate_mel_spectrogram(file_paths[50],labels[50])"
   ]
  },
  {
   "cell_type": "code",
   "execution_count": 48,
   "id": "80575624-aa94-4871-9572-8b7583e3853c",
   "metadata": {
    "ExecuteTime": {
     "end_time": "2021-05-28T10:13:13.201805Z",
     "start_time": "2021-05-28T10:13:12.402096Z"
    }
   },
   "outputs": [
    {
     "name": "stdout",
     "output_type": "stream",
     "text": [
      "WARNING:tensorflow:Using a while_loop for converting IO>AudioResample\n",
      "WARNING:tensorflow:Using a while_loop for converting IO>AudioResample\n"
     ]
    }
   ],
   "source": [
    "ds_train = tf.data.Dataset.from_tensor_slices((file_paths, labels))\n",
    "\n",
    "ds_train_mel = ds_train.map(generate_mel_spectrogram).batch(5)\n",
    "ds_train_db_mel = ds_train.map(generate_db_scale_mel_spectrogram).batch(5)"
   ]
  },
  {
   "cell_type": "code",
   "execution_count": 27,
   "id": "c74f579f-26bb-40bb-a123-b2e135e04322",
   "metadata": {
    "ExecuteTime": {
     "end_time": "2021-05-28T09:49:25.058071Z",
     "start_time": "2021-05-28T09:49:23.057792Z"
    }
   },
   "outputs": [],
   "source": [
    "spectrogram, label = next(iter(ds_train))"
   ]
  },
  {
   "cell_type": "code",
   "execution_count": 28,
   "id": "9c7e4f73-7af3-4b24-9662-6044019b3cee",
   "metadata": {
    "ExecuteTime": {
     "end_time": "2021-05-28T09:49:33.243003Z",
     "start_time": "2021-05-28T09:49:33.214363Z"
    }
   },
   "outputs": [
    {
     "data": {
      "text/plain": [
       "(5, 128, 625, 1)"
      ]
     },
     "execution_count": 28,
     "metadata": {},
     "output_type": "execute_result"
    }
   ],
   "source": [
    "spectrogram.numpy().shape"
   ]
  },
  {
   "cell_type": "code",
   "execution_count": 47,
   "id": "605c62d8-a5d2-4acf-8892-9299d1d0a41a",
   "metadata": {
    "ExecuteTime": {
     "end_time": "2021-05-28T10:11:24.674749Z",
     "start_time": "2021-05-28T10:11:24.531543Z"
    }
   },
   "outputs": [
    {
     "data": {
      "image/png": "[encoded data removed]",
      "text/plain": [
       "<Figure size 432x288 with 1 Axes>"
      ]
     },
     "metadata": {
      "needs_background": "light"
     },
     "output_type": "display_data"
    }
   ],
   "source": [
    "plt.imshow(tf.math.log(spectrogram.numpy()[3, :, :]));"
   ]
  },
  {
   "cell_type": "markdown",
   "id": "d6dda587-38a8-40f1-b95d-450205c6e1e8",
   "metadata": {},
   "source": [
    "# First model"
   ]
  },
  {
   "cell_type": "code",
   "execution_count": 49,
   "id": "9e7df2c4",
   "metadata": {
    "ExecuteTime": {
     "end_time": "2021-05-28T13:32:15.092572Z",
     "start_time": "2021-05-28T13:32:14.517369Z"
    }
   },
   "outputs": [],
   "source": [
    "ds_train = tf.data.Dataset.from_tensor_slices((file_paths, labels))\n",
    "# Splitting the dataset for training and testing.\n",
    "def is_test(x, _):\n",
    "    return x % 4 == 0\n",
    "\n",
    "def is_train(x, y):\n",
    "    return not is_test(x, y)\n",
    "\n",
    "recover = lambda x, y: y\n",
    "\n",
    "# Split the dataset for training.\n",
    "test_dataset = ds_train.enumerate() \\\n",
    "    .filter(is_test) \\\n",
    "    .map(recover)\n",
    "\n",
    "# Split the dataset for testing/validation.\n",
    "train_dataset = ds_train.enumerate() \\\n",
    "    .filter(is_train) \\\n",
    "    .map(recover)"
   ]
  },
  {
   "cell_type": "code",
   "execution_count": 50,
   "id": "aa04a85f-db43-41fd-94e6-3f0e50af3148",
   "metadata": {
    "ExecuteTime": {
     "end_time": "2021-05-28T13:32:18.557821Z",
     "start_time": "2021-05-28T13:32:18.528106Z"
    }
   },
   "outputs": [],
   "source": [
    "from tensorflow.keras import models, layers, optimizers"
   ]
  },
  {
   "cell_type": "code",
   "execution_count": 51,
   "id": "4b209806-4a3b-41c7-bcbb-93054370d90b",
   "metadata": {
    "ExecuteTime": {
     "end_time": "2021-05-28T13:32:19.173279Z",
     "start_time": "2021-05-28T13:32:19.033497Z"
    }
   },
   "outputs": [
    {
     "name": "stdout",
     "output_type": "stream",
     "text": [
      "Model: \"sequential_3\"\n",
      "_________________________________________________________________\n",
      "Layer (type)                 Output Shape              Param #   \n",
      "=================================================================\n",
      "conv2d_6 (Conv2D)            (None, 126, 623, 6)       60        \n",
      "_________________________________________________________________\n",
      "conv2d_7 (Conv2D)            (None, 124, 621, 4)       220       \n",
      "_________________________________________________________________\n",
      "flatten_3 (Flatten)          (None, 308016)            0         \n",
      "_________________________________________________________________\n",
      "dense_3 (Dense)              (None, 50)                15400850  \n",
      "=================================================================\n",
      "Total params: 15,401,130\n",
      "Trainable params: 15,401,130\n",
      "Non-trainable params: 0\n",
      "_________________________________________________________________\n"
     ]
    }
   ],
   "source": [
    "model = models.Sequential()\n",
    "model.add(layers.Conv2D(6, kernel_size=(3, 3), activation='relu', input_shape=(128, 625, 1)))\n",
    "model.add(layers.Conv2D(4, kernel_size=(3, 3), activation='relu'))\n",
    "model.add(layers.Flatten())\n",
    "model.add(layers.Dense(50, activation='softmax')) \n",
    "model.summary()"
   ]
  },
  {
   "cell_type": "code",
   "execution_count": 52,
   "id": "22227d18-6b81-4679-8763-d90255199698",
   "metadata": {
    "ExecuteTime": {
     "end_time": "2021-05-28T13:32:23.122232Z",
     "start_time": "2021-05-28T13:32:23.086160Z"
    }
   },
   "outputs": [],
   "source": [
    "opt = optimizers.Adam(learning_rate=0.01)\n",
    "model.compile(loss='categorical_crossentropy',\n",
    "              optimizer=opt,\n",
    "              metrics=['accuracy'])"
   ]
  },
  {
   "cell_type": "code",
   "execution_count": 41,
   "id": "fbb96554",
   "metadata": {
    "ExecuteTime": {
     "end_time": "2021-05-28T09:55:00.071904Z",
     "start_time": "2021-05-28T09:55:00.036472Z"
    }
   },
   "outputs": [
    {
     "ename": "TypeError",
     "evalue": "'BatchDataset' object is not subscriptable",
     "output_type": "error",
     "traceback": [
      "\u001b[0;31m---------------------------------------------------------------------------\u001b[0m",
      "\u001b[0;31mTypeError\u001b[0m                                 Traceback (most recent call last)",
      "\u001b[0;32m<ipython-input-41-686af9666c5c>\u001b[0m in \u001b[0;36m<module>\u001b[0;34m\u001b[0m\n\u001b[0;32m----> 1\u001b[0;31m \u001b[0mds_train\u001b[0m\u001b[0;34m[\u001b[0m\u001b[0;36m0\u001b[0m\u001b[0;34m]\u001b[0m\u001b[0;34m\u001b[0m\u001b[0;34m\u001b[0m\u001b[0m\n\u001b[0m",
      "\u001b[0;31mTypeError\u001b[0m: 'BatchDataset' object is not subscriptable"
     ]
    }
   ],
   "source": []
  },
  {
   "cell_type": "code",
   "execution_count": 42,
   "id": "c362cde2",
   "metadata": {
    "ExecuteTime": {
     "end_time": "2021-05-28T09:59:03.921426Z",
     "start_time": "2021-05-28T09:59:03.876365Z"
    }
   },
   "outputs": [
    {
     "ename": "ValueError",
     "evalue": "`validation_split` is only supported for Tensors or NumPy arrays, found following types in the input: [<class 'tensorflow.python.data.ops.dataset_ops.BatchDataset'>]",
     "output_type": "error",
     "traceback": [
      "\u001b[0;31m---------------------------------------------------------------------------\u001b[0m",
      "\u001b[0;31mValueError\u001b[0m                                Traceback (most recent call last)",
      "\u001b[0;32m<ipython-input-42-363dddd70df3>\u001b[0m in \u001b[0;36m<module>\u001b[0;34m\u001b[0m\n\u001b[1;32m      2\u001b[0m \u001b[0mes\u001b[0m \u001b[0;34m=\u001b[0m \u001b[0mcallbacks\u001b[0m\u001b[0;34m.\u001b[0m\u001b[0mEarlyStopping\u001b[0m\u001b[0;34m(\u001b[0m\u001b[0mpatience\u001b[0m\u001b[0;34m=\u001b[0m\u001b[0;36m4\u001b[0m\u001b[0;34m,\u001b[0m \u001b[0mrestore_best_weights\u001b[0m\u001b[0;34m=\u001b[0m\u001b[0;32mTrue\u001b[0m\u001b[0;34m)\u001b[0m\u001b[0;34m\u001b[0m\u001b[0;34m\u001b[0m\u001b[0m\n\u001b[1;32m      3\u001b[0m \u001b[0;34m\u001b[0m\u001b[0m\n\u001b[0;32m----> 4\u001b[0;31m history = model.fit(ds_train,\n\u001b[0m\u001b[1;32m      5\u001b[0m                     \u001b[0mvalidation_split\u001b[0m\u001b[0;34m=\u001b[0m\u001b[0;36m0.3\u001b[0m\u001b[0;34m,\u001b[0m\u001b[0;34m\u001b[0m\u001b[0;34m\u001b[0m\u001b[0m\n\u001b[1;32m      6\u001b[0m                     \u001b[0mbatch_size\u001b[0m\u001b[0;34m=\u001b[0m\u001b[0;36m16\u001b[0m\u001b[0;34m,\u001b[0m\u001b[0;34m\u001b[0m\u001b[0;34m\u001b[0m\u001b[0m\n",
      "\u001b[0;32m~/.pyenv/versions/3.8.6/envs/birds/lib/python3.8/site-packages/tensorflow/python/keras/engine/training.py\u001b[0m in \u001b[0;36mfit\u001b[0;34m(self, x, y, batch_size, epochs, verbose, callbacks, validation_split, validation_data, shuffle, class_weight, sample_weight, initial_epoch, steps_per_epoch, validation_steps, validation_batch_size, validation_freq, max_queue_size, workers, use_multiprocessing)\u001b[0m\n\u001b[1;32m   1117\u001b[0m       \u001b[0;31m# `Tensor` and `NumPy` input.\u001b[0m\u001b[0;34m\u001b[0m\u001b[0;34m\u001b[0m\u001b[0;34m\u001b[0m\u001b[0m\n\u001b[1;32m   1118\u001b[0m       (x, y, sample_weight), validation_data = (\n\u001b[0;32m-> 1119\u001b[0;31m           data_adapter.train_validation_split(\n\u001b[0m\u001b[1;32m   1120\u001b[0m               (x, y, sample_weight), validation_split=validation_split))\n\u001b[1;32m   1121\u001b[0m \u001b[0;34m\u001b[0m\u001b[0m\n",
      "\u001b[0;32m~/.pyenv/versions/3.8.6/envs/birds/lib/python3.8/site-packages/tensorflow/python/keras/engine/data_adapter.py\u001b[0m in \u001b[0;36mtrain_validation_split\u001b[0;34m(arrays, validation_split)\u001b[0m\n\u001b[1;32m   1456\u001b[0m   \u001b[0munsplitable\u001b[0m \u001b[0;34m=\u001b[0m \u001b[0;34m[\u001b[0m\u001b[0mtype\u001b[0m\u001b[0;34m(\u001b[0m\u001b[0mt\u001b[0m\u001b[0;34m)\u001b[0m \u001b[0;32mfor\u001b[0m \u001b[0mt\u001b[0m \u001b[0;32min\u001b[0m \u001b[0mflat_arrays\u001b[0m \u001b[0;32mif\u001b[0m \u001b[0;32mnot\u001b[0m \u001b[0m_can_split\u001b[0m\u001b[0;34m(\u001b[0m\u001b[0mt\u001b[0m\u001b[0;34m)\u001b[0m\u001b[0;34m]\u001b[0m\u001b[0;34m\u001b[0m\u001b[0;34m\u001b[0m\u001b[0m\n\u001b[1;32m   1457\u001b[0m   \u001b[0;32mif\u001b[0m \u001b[0munsplitable\u001b[0m\u001b[0;34m:\u001b[0m\u001b[0;34m\u001b[0m\u001b[0;34m\u001b[0m\u001b[0m\n\u001b[0;32m-> 1458\u001b[0;31m     raise ValueError(\n\u001b[0m\u001b[1;32m   1459\u001b[0m         \u001b[0;34m\"`validation_split` is only supported for Tensors or NumPy \"\u001b[0m\u001b[0;34m\u001b[0m\u001b[0;34m\u001b[0m\u001b[0m\n\u001b[1;32m   1460\u001b[0m         \"arrays, found following types in the input: {}\".format(unsplitable))\n",
      "\u001b[0;31mValueError\u001b[0m: `validation_split` is only supported for Tensors or NumPy arrays, found following types in the input: [<class 'tensorflow.python.data.ops.dataset_ops.BatchDataset'>]"
     ]
    }
   ],
   "source": [
    "from tensorflow.keras import callbacks\n",
    "es = callbacks.EarlyStopping(patience=1, restore_best_weights=True)\n",
    "\n",
    "history = model.fit(ds_train,\n",
    "                    validation_split=0.3,\n",
    "                    batch_size=16,\n",
    "                    epochs=2,\n",
    "                    callbacks=[es],\n",
    "                    verbose=1)"
   ]
  },
  {
   "cell_type": "code",
   "execution_count": null,
   "id": "51d3c953",
   "metadata": {},
   "outputs": [],
   "source": []
  }
 ],
 "metadata": {
  "kernelspec": {
   "display_name": "Python 3",
   "language": "python",
   "name": "python3"
  },
  "language_info": {
   "codemirror_mode": {
    "name": "ipython",
    "version": 3
   },
   "file_extension": ".py",
   "mimetype": "text/x-python",
   "name": "python",
   "nbconvert_exporter": "python",
   "pygments_lexer": "ipython3",
   "version": "3.8.6"
  },
  "toc": {
   "base_numbering": 1,
   "nav_menu": {},
   "number_sections": true,
   "sideBar": true,
   "skip_h1_title": false,
   "title_cell": "Table of Contents",
   "title_sidebar": "Contents",
   "toc_cell": false,
   "toc_position": {},
   "toc_section_display": true,
   "toc_window_display": false
  },
  "toc-autonumbering": true
 },
 "nbformat": 4,
 "nbformat_minor": 5
}
