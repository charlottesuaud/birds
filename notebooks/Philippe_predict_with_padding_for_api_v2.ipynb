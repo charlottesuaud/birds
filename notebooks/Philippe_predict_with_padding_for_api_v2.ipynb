{
  "nbformat": 4,
  "nbformat_minor": 0,
  "metadata": {
    "colab": {
      "name": "philippe_test_load_model.ipynb",
      "provenance": [],
      "collapsed_sections": [],
      "toc_visible": true
    },
    "kernelspec": {
      "name": "python3",
      "display_name": "Python 3"
    },
    "language_info": {
      "name": "python"
    }
  },
  "cells": [
    {
      "cell_type": "code",
      "metadata": {
        "id": "7ksDip8m3Itx"
      },
      "source": [
        "import tensorflow as tf\n",
        "import matplotlib.pyplot as plt"
      ],
      "execution_count": null,
      "outputs": []
    },
    {
      "cell_type": "code",
      "metadata": {
        "id": "nxk-bDjA6CiJ",
        "colab": {
          "base_uri": "https://localhost:8080/"
        },
        "outputId": "a1f8176d-8797-489d-b74b-91a0e3e56fd3"
      },
      "source": [
        "!pip install --quiet tensorflow_io"
      ],
      "execution_count": null,
      "outputs": [
        {
          "output_type": "stream",
          "text": [
            "\u001b[K     |████████████████████████████████| 24.1MB 56.8MB/s \n",
            "\u001b[K     |████████████████████████████████| 2.5MB 39.2MB/s \n",
            "\u001b[?25h"
          ],
          "name": "stdout"
        }
      ]
    },
    {
      "cell_type": "code",
      "metadata": {
        "id": "kTaL5PI-6K9L"
      },
      "source": [
        "import tensorflow_io as tfio\n",
        "import numpy as np"
      ],
      "execution_count": null,
      "outputs": []
    },
    {
      "cell_type": "markdown",
      "metadata": {
        "id": "2DgJxR1-zp5Y"
      },
      "source": [
        "# Fichiers tests"
      ]
    },
    {
      "cell_type": "code",
      "metadata": {
        "colab": {
          "base_uri": "https://localhost:8080/"
        },
        "id": "eTz6hrkhztJ0",
        "outputId": "0b99a4d7-b024-49a6-bafb-46ee247f15c6"
      },
      "source": [
        "from google.colab import drive\n",
        "drive.mount(\"/content/drive\")"
      ],
      "execution_count": null,
      "outputs": [
        {
          "output_type": "stream",
          "text": [
            "Mounted at /content/drive\n"
          ],
          "name": "stdout"
        }
      ]
    },
    {
      "cell_type": "code",
      "metadata": {
        "id": "-aFWe3luz0I2"
      },
      "source": [
        "fichier_test = 'drive/MyDrive/Birds/data_10s/test/Hirundo-rustica-157282_tens.ogg'\n",
        "fichier_court = 'drive/MyDrive/230420191717.wav'"
      ],
      "execution_count": null,
      "outputs": []
    },
    {
      "cell_type": "markdown",
      "metadata": {
        "id": "5O1w0syp3AFL"
      },
      "source": [
        "# Charger modèle"
      ]
    },
    {
      "cell_type": "code",
      "metadata": {
        "id": "r7BdHDXo1iDU"
      },
      "source": [
        "new_model = tf.keras.models.load_model('drive/MyDrive/Birds/models/model_densenet169_v4')"
      ],
      "execution_count": null,
      "outputs": []
    },
    {
      "cell_type": "markdown",
      "metadata": {
        "id": "ucwROCSU4zTe"
      },
      "source": [
        "# Preprocess test file to spectro"
      ]
    },
    {
      "cell_type": "code",
      "metadata": {
        "id": "d17zGxxkPyk7"
      },
      "source": [
        "TARGET_SAMPLE_RATE = 16_000\n",
        "TARGET_SPLIT_DURATION_SEC = 10 \n",
        "\n",
        "def pad_up_to(t, max_in_dims, constant_values):\n",
        "    s = tf.shape(t)\n",
        "    paddings = [[0, m-s[i]] for (i,m) in enumerate(max_in_dims)]\n",
        "    return tf.pad(t, paddings, 'CONSTANT', constant_values=constant_values)\n",
        "\n",
        "\n",
        "def generate_mel_spectrogram_prediction(file_path, \n",
        "                                    split=True, output_rate=TARGET_SAMPLE_RATE,\n",
        "                                    transpose=True,\n",
        "                                    nfft=400, window=400, stride=100,                      # spectrogram params\n",
        "                                    rate=TARGET_SAMPLE_RATE, mels=128, fmin=0, fmax=8000): # mel spectrogram params\n",
        "    '''\n",
        "    Objective : Generate spectrogram from an audio file path\n",
        "    Input : file_path , label = integer between 0 and 49\n",
        "    Ouput : Spectrogram tf.Tensor shape (x,y)\n",
        "    '''\n",
        "    # 1 - Generate tensor from file path\n",
        "    ## a) create AudioTensor\n",
        "    audio_tensor = tfio.audio.AudioIOTensor(file_path, dtype='float32')\n",
        "\n",
        "    ## b) convert AudioTensor to tf Tensor and get rate\n",
        "    tensor = audio_tensor.to_tensor()\n",
        "    input_rate = tf.cast(audio_tensor.rate, tf.int64)\n",
        "\n",
        "    ## c) resample to output_rate\n",
        "    output_rate = np.int64(output_rate)\n",
        "    tensor = tfio.audio.resample(tensor, input_rate, output_rate, name=None)\n",
        "\n",
        "    ## d) split if too long\n",
        "    if split==True:\n",
        "      split_index = output_rate * TARGET_SPLIT_DURATION_SEC\n",
        "      tensor = tensor[:split_index]\n",
        "\n",
        "    ## e) harmonize tensor shape\n",
        "    if tensor.dtype == tf.int16:\n",
        "        tensor = tf.cast(tensor, tf.float32)\n",
        "    \n",
        "    ## f) convert stereo to mono and remove last dimension\n",
        "    tensor = tf.reduce_mean(tensor, 1)\n",
        "\n",
        "    ## d) pad if too short\n",
        "    tensor = pad_up_to(tensor, (TARGET_SAMPLE_RATE*TARGET_SPLIT_DURATION_SEC,),0)\n",
        "\n",
        "    # 2 - Generate spectrogram\n",
        "    spectrogram = tfio.audio.spectrogram(tensor, nfft=nfft, window=window, stride=stride)\n",
        "    \n",
        "    # 3 - Convert to mel spectrogram\n",
        "    mel_spectrogram = tfio.audio.melscale(spectrogram, rate=rate, mels=mels, fmin=fmin,fmax=fmax)\n",
        "\n",
        "    # 3 - Transpose output if asked\n",
        "    if transpose == True:\n",
        "        mel_spectrogram = tf.transpose(mel_spectrogram, perm=[1, 0])\n",
        "    \n",
        "    # 4 - Expand dim to get channel dimension\n",
        "    mel_spectrogram = tf.expand_dims(mel_spectrogram, axis=-1)\n",
        "\n",
        "    # 5 - Convert gray to RGB (requested shape for densenet)\n",
        "    mel_spectrogram = tf.image.grayscale_to_rgb(mel_spectrogram)\n",
        "\n",
        "    # 6 - Expand dim to have similar shape as model was trained in batches\n",
        "    mel_spectrogram = tf.expand_dims(mel_spectrogram, axis=0)\n",
        "    print(mel_spectrogram.shape)\n",
        "\n",
        "    return mel_spectrogram"
      ],
      "execution_count": null,
      "outputs": []
    },
    {
      "cell_type": "code",
      "metadata": {
        "id": "vX8IX76sdRef",
        "colab": {
          "base_uri": "https://localhost:8080/"
        },
        "outputId": "e61fd315-9202-40ca-fd02-ce690e80d1dc"
      },
      "source": [
        "spectrogram = generate_mel_spectrogram_prediction(fichier_test)"
      ],
      "execution_count": null,
      "outputs": [
        {
          "output_type": "stream",
          "text": [
            "(1, 128, 1600, 3)\n"
          ],
          "name": "stdout"
        }
      ]
    },
    {
      "cell_type": "code",
      "metadata": {
        "colab": {
          "base_uri": "https://localhost:8080/"
        },
        "id": "2NPri7eteECa",
        "outputId": "200ae28f-02c8-45ec-c393-574c45e333c3"
      },
      "source": [
        "spectrogram2 = generate_mel_spectrogram_prediction(fichier_court)"
      ],
      "execution_count": null,
      "outputs": [
        {
          "output_type": "stream",
          "text": [
            "(1, 128, 1600, 3)\n"
          ],
          "name": "stdout"
        }
      ]
    },
    {
      "cell_type": "code",
      "metadata": {
        "colab": {
          "base_uri": "https://localhost:8080/",
          "height": 158
        },
        "id": "TpfuVTloco6C",
        "outputId": "a534475b-982f-468e-9dea-2d5e5039c449"
      },
      "source": [
        "plt.figure(figsize=(20, 16))\n",
        "plt.imshow(spectrogram2[0,:,:,0])"
      ],
      "execution_count": null,
      "outputs": [
        {
          "output_type": "execute_result",
          "data": {
            "text/plain": [
              "<matplotlib.image.AxesImage at 0x7f4549632650>"
            ]
          },
          "metadata": {
            "tags": []
          },
          "execution_count": 30
        },
        {
          "output_type": "display_data",
          "data": {
            "image/png": "[encoded data removed]",
            "text/plain": [
              "<Figure size 1440x1152 with 1 Axes>"
            ]
          },
          "metadata": {
            "tags": [],
            "needs_background": "light"
          }
        }
      ]
    },
    {
      "cell_type": "code",
      "metadata": {
        "id": "emevpUxgiO1P"
      },
      "source": [
        "TARGET_DICT = {'Sonus naturalis': 0,\n",
        "               'Fringilla coelebs': 1,\n",
        "               'Parus major': 2,\n",
        "               'Turdus merula': 3,\n",
        "               'Turdus philomelos': 4,\n",
        "               'Sylvia communis': 5,\n",
        "               'Emberiza citrinella': 6,\n",
        "               'Sylvia atricapilla': 7,\n",
        "               'Emberiza calandra': 8,\n",
        "               'Phylloscopus trochilus': 9,\n",
        "               'Luscinia megarhynchos': 10,\n",
        "               'Strix aluco': 11,\n",
        "               'Phylloscopus collybita': 12,\n",
        "               'Carduelis carduelis': 13,\n",
        "               'Erithacus rubecula': 14,\n",
        "               'Chloris chloris': 15,\n",
        "               'Sylvia borin': 16,\n",
        "               'Acrocephalus arundinaceus': 17,\n",
        "               'Acrocephalus dumetorum': 18,\n",
        "               'Oriolus oriolus': 19,\n",
        "               'Troglodytes troglodytes': 20,\n",
        "               'Bubo bubo': 21,\n",
        "               'Ficedula parva': 22,\n",
        "               'Linaria cannabina': 23,\n",
        "               'Luscinia svecica': 24,\n",
        "               'Alauda arvensis': 25,\n",
        "               'Luscinia luscinia': 26,\n",
        "               'Phoenicurus phoenicurus': 27,\n",
        "               'Aegolius funereus': 28,\n",
        "               'Cyanistes caeruleus': 29,\n",
        "               'Hirundo rustica': 30,\n",
        "               'Emberiza cirlus': 31,\n",
        "               'Locustella naevia': 32,\n",
        "               'Cuculus canorus': 33,\n",
        "               'Sylvia curruca': 34,\n",
        "               'Loxia curvirostra': 35,\n",
        "               'Emberiza hortulana': 36,\n",
        "               'Carpodacus erythrinus': 37,\n",
        "               'Athene noctua': 38,\n",
        "               'Crex crex': 39,\n",
        "               'Acrocephalus schoenobaenus': 40,\n",
        "               'Acrocephalus palustris': 41,\n",
        "               'Periparus ater': 42,\n",
        "               'Phylloscopus sibilatrix': 43,\n",
        "               'Emberiza schoeniclus': 44,\n",
        "               'Hippolais icterina': 45,\n",
        "               'Pyrrhula pyrrhula': 46,\n",
        "               'Caprimulgus europaeus': 47,\n",
        "               'Ficedula hypoleuca': 48,\n",
        "               'Glaucidium passerinum': 49}\n",
        "\n",
        "REVERSE_DICT = {value : key for (key, value) in TARGET_DICT.items()}"
      ],
      "execution_count": null,
      "outputs": []
    },
    {
      "cell_type": "code",
      "metadata": {
        "id": "zjKquUFAgT2T"
      },
      "source": [
        "def get_top_predictions_dict(spectrogram, model):\n",
        "    '''\n",
        "    Objective : Generate dictionnary with top 3 predictions from model\n",
        "    Input : spectrogram, model\n",
        "    Ouput : dict\n",
        "    '''\n",
        "    # Get prediction array (len : 50 -> number of classes)\n",
        "    prediction = model.predict(spectrogram)[0]\n",
        "    # Retrieve top 3 predictions with associated values\n",
        "    top3_pred_indexes = np.argpartition(prediction, -3)[-3:]\n",
        "    top3_pred_values = prediction[top3_pred_indexes]\n",
        "\n",
        "    # Convert target number back into scientific name\n",
        "    top3_pred_names = [REVERSE_DICT[k] for k in top3_pred_indexes]\n",
        "\n",
        "    # Associate result in a dictionnary for API output\n",
        "    dico_top3 = dict(zip(top3_pred_names,top3_pred_values))\n",
        "    \n",
        "    return dico_top3"
      ],
      "execution_count": null,
      "outputs": []
    },
    {
      "cell_type": "code",
      "metadata": {
        "colab": {
          "base_uri": "https://localhost:8080/"
        },
        "id": "uVgJGEuoh6e-",
        "outputId": "2d15655c-dc2a-4f30-9ad6-ac532753d2a0"
      },
      "source": [
        "get_top_predictions_dict(spectrogram, new_model)"
      ],
      "execution_count": null,
      "outputs": [
        {
          "output_type": "execute_result",
          "data": {
            "text/plain": [
              "{'Hirundo rustica': 1.0,\n",
              " 'Linaria cannabina': 2.9226825e-08,\n",
              " 'Sylvia atricapilla': 2.4457578e-09}"
            ]
          },
          "metadata": {
            "tags": []
          },
          "execution_count": 33
        }
      ]
    },
    {
      "cell_type": "code",
      "metadata": {
        "colab": {
          "base_uri": "https://localhost:8080/"
        },
        "id": "mkrBTrkXeXpA",
        "outputId": "dc98dc26-a9ec-49a4-abb2-7484aa1a739b"
      },
      "source": [
        "get_top_predictions_dict(spectrogram2, new_model)"
      ],
      "execution_count": null,
      "outputs": [
        {
          "output_type": "execute_result",
          "data": {
            "text/plain": [
              "{'Acrocephalus arundinaceus': 0.0,\n",
              " 'Erithacus rubecula': 0.0,\n",
              " 'Luscinia luscinia': 1.0}"
            ]
          },
          "metadata": {
            "tags": []
          },
          "execution_count": 34
        }
      ]
    }
  ]
}