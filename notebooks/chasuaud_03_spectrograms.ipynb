{
 "cells": [
  {
   "cell_type": "markdown",
   "id": "2be3a07e-004b-46b8-8982-a3ce28119847",
   "metadata": {},
   "source": [
    "# Imports"
   ]
  },
  {
   "cell_type": "code",
   "execution_count": 1,
   "id": "43b8ffe6",
   "metadata": {
    "ExecuteTime": {
     "end_time": "2021-05-25T16:59:08.313142Z",
     "start_time": "2021-05-25T16:59:05.588449Z"
    }
   },
   "outputs": [],
   "source": [
    "import tensorflow as tf\n",
    "import tensorflow_io as tfio"
   ]
  },
  {
   "cell_type": "code",
   "execution_count": 2,
   "id": "01fc8356-0fa8-4f66-9984-8d0134f8fd56",
   "metadata": {},
   "outputs": [],
   "source": [
    "from IPython.display import Audio"
   ]
  },
  {
   "cell_type": "code",
   "execution_count": 3,
   "id": "c4bcb3ee-9ff8-4545-b333-32135288a7db",
   "metadata": {},
   "outputs": [],
   "source": [
    "import numpy as np\n",
    "import pandas as pd\n",
    "import matplotlib.pyplot as plt\n",
    "from ipywidgets import interact"
   ]
  },
  {
   "cell_type": "code",
   "execution_count": 4,
   "id": "b2f748ff-2df5-4f1e-99e3-d70f3e01a319",
   "metadata": {},
   "outputs": [],
   "source": [
    "%load_ext autoreload \n",
    "%autoreload 2\n",
    "%reload_ext autoreload"
   ]
  },
  {
   "cell_type": "code",
   "execution_count": 5,
   "id": "3ba73a41-1686-4955-9e92-4eaf210212a3",
   "metadata": {},
   "outputs": [],
   "source": [
    "from birds.preproc import generate_tensor\n",
    "from birds.preproc import generate_spectrogram, generate_mel_spectrogram, generate_db_scale_mel_spectrogram\n",
    "from birds.preproc import one_hot_encode_target"
   ]
  },
  {
   "cell_type": "markdown",
   "id": "8a78cc18-74fd-441f-a474-7792c73b407b",
   "metadata": {},
   "source": [
    "# Dataset"
   ]
  },
  {
   "cell_type": "code",
   "execution_count": 6,
   "id": "c661ba28-f22f-46f4-83cb-fc3303216dc6",
   "metadata": {},
   "outputs": [],
   "source": [
    "RAW_DATA_PATH = '../raw_data/'\n",
    "TRAIN_SET_PATH = '../raw_data/data_30s/train/'"
   ]
  },
  {
   "cell_type": "code",
   "execution_count": 7,
   "id": "fb5f6b0e-ee7c-40b7-9286-16595e27f504",
   "metadata": {
    "tags": []
   },
   "outputs": [
    {
     "data": {
      "text/html": [
       "<div>\n",
       "<style scoped>\n",
       "    .dataframe tbody tr th:only-of-type {\n",
       "        vertical-align: middle;\n",
       "    }\n",
       "\n",
       "    .dataframe tbody tr th {\n",
       "        vertical-align: top;\n",
       "    }\n",
       "\n",
       "    .dataframe thead th {\n",
       "        text-align: right;\n",
       "    }\n",
       "</style>\n",
       "<table border=\"1\" class=\"dataframe\">\n",
       "  <thead>\n",
       "    <tr style=\"text-align: right;\">\n",
       "      <th></th>\n",
       "      <th>Recording_ID</th>\n",
       "      <th>Genus</th>\n",
       "      <th>Specific_epithet</th>\n",
       "      <th>Subspecies</th>\n",
       "      <th>English_name</th>\n",
       "      <th>Recordist</th>\n",
       "      <th>Country</th>\n",
       "      <th>Locality</th>\n",
       "      <th>Latitude</th>\n",
       "      <th>Longitude</th>\n",
       "      <th>...</th>\n",
       "      <th>Other_species24</th>\n",
       "      <th>Other_species25</th>\n",
       "      <th>Other_species26</th>\n",
       "      <th>Other_species27</th>\n",
       "      <th>Other_species28</th>\n",
       "      <th>Other_species29</th>\n",
       "      <th>Other_species30</th>\n",
       "      <th>Species</th>\n",
       "      <th>Path</th>\n",
       "      <th>Target</th>\n",
       "    </tr>\n",
       "  </thead>\n",
       "  <tbody>\n",
       "    <tr>\n",
       "      <th>0</th>\n",
       "      <td>447407</td>\n",
       "      <td>Sonus</td>\n",
       "      <td>naturalis</td>\n",
       "      <td>NaN</td>\n",
       "      <td>Soundscape</td>\n",
       "      <td>José Carlos Sires</td>\n",
       "      <td>Spain</td>\n",
       "      <td>Córdoba, Córdoba, Andalucía</td>\n",
       "      <td>37.9413</td>\n",
       "      <td>-4.8958</td>\n",
       "      <td>...</td>\n",
       "      <td>NaN</td>\n",
       "      <td>NaN</td>\n",
       "      <td>NaN</td>\n",
       "      <td>NaN</td>\n",
       "      <td>NaN</td>\n",
       "      <td>NaN</td>\n",
       "      <td>NaN</td>\n",
       "      <td>Sonus naturalis</td>\n",
       "      <td>Sonus-naturalis-447407_tens.ogg</td>\n",
       "      <td>0</td>\n",
       "    </tr>\n",
       "    <tr>\n",
       "      <th>1</th>\n",
       "      <td>387437</td>\n",
       "      <td>Sonus</td>\n",
       "      <td>naturalis</td>\n",
       "      <td>NaN</td>\n",
       "      <td>Soundscape</td>\n",
       "      <td>José Carlos Sires</td>\n",
       "      <td>Spain</td>\n",
       "      <td>el planerón, belchite, zaragoza, aragón</td>\n",
       "      <td>41.2784</td>\n",
       "      <td>-0.7328</td>\n",
       "      <td>...</td>\n",
       "      <td>NaN</td>\n",
       "      <td>NaN</td>\n",
       "      <td>NaN</td>\n",
       "      <td>NaN</td>\n",
       "      <td>NaN</td>\n",
       "      <td>NaN</td>\n",
       "      <td>NaN</td>\n",
       "      <td>Sonus naturalis</td>\n",
       "      <td>Sonus-naturalis-387437_tens.ogg</td>\n",
       "      <td>0</td>\n",
       "    </tr>\n",
       "    <tr>\n",
       "      <th>2</th>\n",
       "      <td>383228</td>\n",
       "      <td>Sonus</td>\n",
       "      <td>naturalis</td>\n",
       "      <td>NaN</td>\n",
       "      <td>Soundscape</td>\n",
       "      <td>José Carlos Sires</td>\n",
       "      <td>Spain</td>\n",
       "      <td>río guadalmellato, córdoba, andalucía</td>\n",
       "      <td>38.0306</td>\n",
       "      <td>-4.6698</td>\n",
       "      <td>...</td>\n",
       "      <td>NaN</td>\n",
       "      <td>NaN</td>\n",
       "      <td>NaN</td>\n",
       "      <td>NaN</td>\n",
       "      <td>NaN</td>\n",
       "      <td>NaN</td>\n",
       "      <td>NaN</td>\n",
       "      <td>Sonus naturalis</td>\n",
       "      <td>Sonus-naturalis-383228_tens.ogg</td>\n",
       "      <td>0</td>\n",
       "    </tr>\n",
       "  </tbody>\n",
       "</table>\n",
       "<p>3 rows × 62 columns</p>\n",
       "</div>"
      ],
      "text/plain": [
       "   Recording_ID  Genus Specific_epithet Subspecies English_name  \\\n",
       "0        447407  Sonus        naturalis        NaN   Soundscape   \n",
       "1        387437  Sonus        naturalis        NaN   Soundscape   \n",
       "2        383228  Sonus        naturalis        NaN   Soundscape   \n",
       "\n",
       "           Recordist Country                                 Locality  \\\n",
       "0  José Carlos Sires   Spain              Córdoba, Córdoba, Andalucía   \n",
       "1  José Carlos Sires   Spain  el planerón, belchite, zaragoza, aragón   \n",
       "2  José Carlos Sires   Spain    río guadalmellato, córdoba, andalucía   \n",
       "\n",
       "   Latitude  Longitude  ... Other_species24 Other_species25 Other_species26  \\\n",
       "0   37.9413    -4.8958  ...             NaN             NaN             NaN   \n",
       "1   41.2784    -0.7328  ...             NaN             NaN             NaN   \n",
       "2   38.0306    -4.6698  ...             NaN             NaN             NaN   \n",
       "\n",
       "  Other_species27 Other_species28 Other_species29 Other_species30  \\\n",
       "0             NaN             NaN             NaN             NaN   \n",
       "1             NaN             NaN             NaN             NaN   \n",
       "2             NaN             NaN             NaN             NaN   \n",
       "\n",
       "           Species                             Path Target  \n",
       "0  Sonus naturalis  Sonus-naturalis-447407_tens.ogg      0  \n",
       "1  Sonus naturalis  Sonus-naturalis-387437_tens.ogg      0  \n",
       "2  Sonus naturalis  Sonus-naturalis-383228_tens.ogg      0  \n",
       "\n",
       "[3 rows x 62 columns]"
      ]
     },
     "execution_count": 7,
     "metadata": {},
     "output_type": "execute_result"
    }
   ],
   "source": [
    "metadata_train = pd.read_csv(RAW_DATA_PATH + 'metadata_train.csv')\n",
    "\n",
    "metadata_train.head(3)"
   ]
  },
  {
   "cell_type": "code",
   "execution_count": 8,
   "id": "e5235247-9677-46fc-8a75-262af510dd10",
   "metadata": {
    "tags": []
   },
   "outputs": [
    {
     "data": {
      "text/html": [
       "<div>\n",
       "<style scoped>\n",
       "    .dataframe tbody tr th:only-of-type {\n",
       "        vertical-align: middle;\n",
       "    }\n",
       "\n",
       "    .dataframe tbody tr th {\n",
       "        vertical-align: top;\n",
       "    }\n",
       "\n",
       "    .dataframe thead th {\n",
       "        text-align: right;\n",
       "    }\n",
       "</style>\n",
       "<table border=\"1\" class=\"dataframe\">\n",
       "  <thead>\n",
       "    <tr style=\"text-align: right;\">\n",
       "      <th></th>\n",
       "      <th>Species</th>\n",
       "      <th>English_name</th>\n",
       "      <th>Target</th>\n",
       "    </tr>\n",
       "  </thead>\n",
       "  <tbody>\n",
       "    <tr>\n",
       "      <th>0</th>\n",
       "      <td>Sonus naturalis</td>\n",
       "      <td>Soundscape</td>\n",
       "      <td>0</td>\n",
       "    </tr>\n",
       "    <tr>\n",
       "      <th>1</th>\n",
       "      <td>Fringilla coelebs</td>\n",
       "      <td>Common Chaffinch</td>\n",
       "      <td>1</td>\n",
       "    </tr>\n",
       "    <tr>\n",
       "      <th>2</th>\n",
       "      <td>Parus major</td>\n",
       "      <td>Great Tit</td>\n",
       "      <td>2</td>\n",
       "    </tr>\n",
       "  </tbody>\n",
       "</table>\n",
       "</div>"
      ],
      "text/plain": [
       "             Species      English_name  Target\n",
       "0    Sonus naturalis        Soundscape       0\n",
       "1  Fringilla coelebs  Common Chaffinch       1\n",
       "2        Parus major         Great Tit       2"
      ]
     },
     "execution_count": 8,
     "metadata": {},
     "output_type": "execute_result"
    }
   ],
   "source": [
    "species_table = metadata_train.copy()[['Species', 'English_name', 'Target']]\n",
    "species_table = species_table.drop_duplicates()\n",
    "species_table = species_table.reset_index(drop=True)\n",
    "\n",
    "species_table.head(3)"
   ]
  },
  {
   "cell_type": "code",
   "execution_count": 9,
   "id": "3fce905f-b7bd-4554-bf55-6ef789e83b85",
   "metadata": {
    "tags": []
   },
   "outputs": [
    {
     "data": {
      "text/html": [
       "<div>\n",
       "<style scoped>\n",
       "    .dataframe tbody tr th:only-of-type {\n",
       "        vertical-align: middle;\n",
       "    }\n",
       "\n",
       "    .dataframe tbody tr th {\n",
       "        vertical-align: top;\n",
       "    }\n",
       "\n",
       "    .dataframe thead th {\n",
       "        text-align: right;\n",
       "    }\n",
       "</style>\n",
       "<table border=\"1\" class=\"dataframe\">\n",
       "  <thead>\n",
       "    <tr style=\"text-align: right;\">\n",
       "      <th></th>\n",
       "      <th>Path</th>\n",
       "      <th>Target</th>\n",
       "    </tr>\n",
       "  </thead>\n",
       "  <tbody>\n",
       "    <tr>\n",
       "      <th>0</th>\n",
       "      <td>Sonus-naturalis-447407_tens.ogg</td>\n",
       "      <td>0</td>\n",
       "    </tr>\n",
       "    <tr>\n",
       "      <th>1</th>\n",
       "      <td>Sonus-naturalis-387437_tens.ogg</td>\n",
       "      <td>0</td>\n",
       "    </tr>\n",
       "    <tr>\n",
       "      <th>2</th>\n",
       "      <td>Sonus-naturalis-383228_tens.ogg</td>\n",
       "      <td>0</td>\n",
       "    </tr>\n",
       "  </tbody>\n",
       "</table>\n",
       "</div>"
      ],
      "text/plain": [
       "                              Path  Target\n",
       "0  Sonus-naturalis-447407_tens.ogg       0\n",
       "1  Sonus-naturalis-387437_tens.ogg       0\n",
       "2  Sonus-naturalis-383228_tens.ogg       0"
      ]
     },
     "execution_count": 9,
     "metadata": {},
     "output_type": "execute_result"
    }
   ],
   "source": [
    "y_train = pd.read_csv(TRAIN_SET_PATH + 'y_train.csv')\n",
    "\n",
    "y_train.head(3)"
   ]
  },
  {
   "cell_type": "markdown",
   "id": "ca3d7043-70ee-42fe-976f-181f419919dc",
   "metadata": {},
   "source": [
    "# Testing functions"
   ]
  },
  {
   "cell_type": "code",
   "execution_count": 10,
   "id": "8762cfc6-d85e-4924-bbd4-30b3fae26dc1",
   "metadata": {},
   "outputs": [
    {
     "name": "stdout",
     "output_type": "stream",
     "text": [
      "../raw_data/data_30s/train/Fringilla-coelebs-278566_tens.ogg\n",
      "1\n"
     ]
    }
   ],
   "source": [
    "path_example = TRAIN_SET_PATH + y_train.loc[50, 'Path']\n",
    "label_example = y_train.loc[50, 'Target']\n",
    "\n",
    "print(path_example)\n",
    "print(label_example)"
   ]
  },
  {
   "cell_type": "code",
   "execution_count": 11,
   "id": "96d3b8ce-45d9-4c43-a645-906a54f9f3ae",
   "metadata": {},
   "outputs": [],
   "source": [
    "tensor, label, input_rate, output_rate = generate_tensor(path_example, label_example)"
   ]
  },
  {
   "cell_type": "code",
   "execution_count": 12,
   "id": "bf7948c1-1929-4de1-9d44-1bcd687b0592",
   "metadata": {},
   "outputs": [],
   "source": [
    "spectrogram, label = generate_spectrogram(path_example, label_example)"
   ]
  },
  {
   "cell_type": "code",
   "execution_count": 13,
   "id": "6755204c-bacf-4f97-a6da-52e1e39df8cc",
   "metadata": {},
   "outputs": [],
   "source": [
    "mel_spectrogram, label = generate_mel_spectrogram(path_example, label_example)"
   ]
  },
  {
   "cell_type": "code",
   "execution_count": 14,
   "id": "b67813de-c43a-4135-9d7d-73518ccafe3f",
   "metadata": {},
   "outputs": [],
   "source": [
    "db_scale_mel_spectrogram, label = generate_db_scale_mel_spectrogram(path_example, label_example)"
   ]
  },
  {
   "cell_type": "markdown",
   "id": "3af553a5-6393-48f0-9066-4fdb7dec0833",
   "metadata": {},
   "source": [
    "# Tf spectrograms"
   ]
  },
  {
   "cell_type": "code",
   "execution_count": 15,
   "id": "9bd98fb6-cd83-4909-a717-31bd2c5b8ae9",
   "metadata": {
    "tags": []
   },
   "outputs": [],
   "source": [
    "split_dict = {\n",
    "    True: '10s',\n",
    "    False: '30s'\n",
    "}\n",
    "plot_dict = {\n",
    "    'mel spectrogram': 'log',\n",
    "    'spectrogram': 'log',\n",
    "    'db spectrogram': 'common'\n",
    "}"
   ]
  },
  {
   "cell_type": "code",
   "execution_count": 17,
   "id": "a70a546a-52c7-4f46-8f37-35632264dfdf",
   "metadata": {
    "tags": []
   },
   "outputs": [
    {
     "data": {
      "application/vnd.jupyter.widget-view+json": {
       "model_id": "5ad41cf14287472a9b4c83580f6e067b",
       "version_major": 2,
       "version_minor": 0
      },
      "text/plain": [
       "interactive(children=(Dropdown(description='target', options=(1, 2, 3, 4, 5, 6, 7, 8, 9, 10, 11, 12, 13, 14, 1…"
      ]
     },
     "metadata": {},
     "output_type": "display_data"
    }
   ],
   "source": [
    "@interact(\n",
    "    target=range(1,50), output_rate=[16_000, 44_100, 48_000], split=[True, False], \n",
    "    spec_type=['mel spectrogram', 'spectrogram', 'db spectrogram'])\n",
    "def print_from_target(target, output_rate, split, spec_type):\n",
    "    \n",
    "    # Suptitle from target, spectrogram type, plot type\n",
    "    species_name = species_table[species_table['Target'] == target].loc[:, 'Species'].reset_index(drop=True)[0]\n",
    "    english_name = species_table[species_table['Target'] == target].loc[:, 'English_name'].reset_index(drop=True)[0]\n",
    "    suptitle = f\"Target {target}: {species_name} ~ {english_name}\\noutput rate: {output_rate} - split: {split_dict[split]}\\n\\n{spec_type.upper()}\\n\"\n",
    "    \n",
    "    # Get 3 first audio files from chosen target\n",
    "    files_names = list(y_train[y_train['Target'] == target].reset_index(drop=True).loc[0:3, 'Path'])\n",
    "    files_paths = [TRAIN_SET_PATH + file_name for file_name in files_names]\n",
    "    \n",
    "    plt.figure(figsize=(20,5), constrained_layout=True)\n",
    "\n",
    "    for j in range(3):\n",
    "        file_name = files_names[j]\n",
    "        file_path = files_paths[j]\n",
    "        record_name = file_name.split(\"_tens.ogg\")[0]\n",
    "        \n",
    "        # collect tensor information\n",
    "        tensor, label, input_rate, output_rate = generate_tensor(file_path, target, split=split, output_rate=output_rate)\n",
    "        \n",
    "        # choose spectrogram type\n",
    "        if spec_type == 'spectrogram':\n",
    "            spectrogram, label = generate_spectrogram(file_path, target, output_rate=output_rate, split=split)\n",
    "        elif spec_type == 'mel spectrogram':\n",
    "            spectrogram, label = generate_mel_spectrogram(file_path, target, output_rate=output_rate, split=split)\n",
    "        elif spec_type == 'db spectrogram':\n",
    "            spectrogram, label = generate_db_scale_mel_spectrogram(file_path, target, output_rate=output_rate, split=split)\n",
    "        \n",
    "        plt.subplot(1, 3, j+1)\n",
    "        \n",
    "        # get plot type\n",
    "        plot_type = plot_dict[spec_type] # 'log' for spec and mel-spec, 'common' for db-spec\n",
    "        if plot_type == 'common':\n",
    "            plt.imshow(spectrogram.numpy())\n",
    "        elif plot_type == 'log':\n",
    "            plt.imshow(tf.math.log(spectrogram).numpy())\n",
    "\n",
    "        plt.xticks(fontsize=10)\n",
    "        plt.yticks(fontsize=10)\n",
    "        \n",
    "        title = f\"Record n°{j}: {record_name}\\nInput rate: {input_rate}\\nTensor shape: {tensor.shape}\\nSpectrogram shape: {spectrogram.shape} ~ {spectrogram.shape[0] * spectrogram.shape[1]}\\n\"\n",
    "        plt.title(title, fontsize=12, loc='left')\n",
    "\n",
    "\n",
    "    plt.suptitle(suptitle, fontsize=18);\n"
   ]
  },
  {
   "cell_type": "code",
   "execution_count": 18,
   "id": "07a0ea18-be9e-4911-a93c-8a007f0257a8",
   "metadata": {
    "tags": []
   },
   "outputs": [
    {
     "data": {
      "application/vnd.jupyter.widget-view+json": {
       "model_id": "520f4ae41b464d1d9a0607290e72a3eb",
       "version_major": 2,
       "version_minor": 0
      },
      "text/plain": [
       "interactive(children=(Dropdown(description='target', options=(1, 2, 3, 4, 5, 6, 7, 8, 9, 10, 11, 12, 13, 14, 1…"
      ]
     },
     "metadata": {},
     "output_type": "display_data"
    }
   ],
   "source": [
    "@interact(target=range(1,50), record=range(3))\n",
    "def display_audio_from_target(target, record):\n",
    "    \n",
    "    files_names = list(y_train[y_train['Target'] == target].reset_index(drop=True).loc[:, 'Path'])\n",
    "    files_paths = [TRAIN_SET_PATH + file_name for file_name in files_names]\n",
    "    \n",
    "    return Audio(files_paths[record])"
   ]
  },
  {
   "cell_type": "code",
   "execution_count": null,
   "id": "44549857-02a9-4b7d-8885-99bb6dd9a0c4",
   "metadata": {},
   "outputs": [],
   "source": []
  }
 ],
 "metadata": {
  "kernelspec": {
   "display_name": "Python 3",
   "language": "python",
   "name": "python3"
  },
  "language_info": {
   "codemirror_mode": {
    "name": "ipython",
    "version": 3
   },
   "file_extension": ".py",
   "mimetype": "text/x-python",
   "name": "python",
   "nbconvert_exporter": "python",
   "pygments_lexer": "ipython3",
   "version": "3.8.6"
  },
  "toc": {
   "base_numbering": 1,
   "nav_menu": {},
   "number_sections": true,
   "sideBar": true,
   "skip_h1_title": false,
   "title_cell": "Table of Contents",
   "title_sidebar": "Contents",
   "toc_cell": false,
   "toc_position": {},
   "toc_section_display": true,
   "toc_window_display": false
  }
 },
 "nbformat": 4,
 "nbformat_minor": 5
}
